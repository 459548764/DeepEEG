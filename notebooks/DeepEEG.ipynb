{
  "nbformat": 4,
  "nbformat_minor": 0,
  "metadata": {
    "colab": {
      "name": "DeepEEG.ipynb",
      "version": "0.3.2",
      "provenance": [],
      "include_colab_link": true
    },
    "kernelspec": {
      "name": "python3",
      "display_name": "Python 3"
    },
    "accelerator": "GPU"
  },
  "cells": [
    {
      "cell_type": "markdown",
      "metadata": {
        "id": "view-in-github",
        "colab_type": "text"
      },
      "source": [
        "<a href=\"https://colab.research.google.com/github/kylemath/DeepEEG/blob/master/notebooks/DeepEEG.ipynb\" target=\"_parent\"><img src=\"https://colab.research.google.com/assets/colab-badge.svg\" alt=\"Open In Colab\"/></a>"
      ]
    },
    {
      "metadata": {
        "id": "cH7KRd8ZZPMd",
        "colab_type": "text"
      },
      "cell_type": "markdown",
      "source": [
        "## DeepEEG\n"
      ]
    },
    {
      "metadata": {
        "id": "dSd-Wr_qBirE",
        "colab_type": "text"
      },
      "cell_type": "markdown",
      "source": [
        "#Connect to Google Drive"
      ]
    },
    {
      "metadata": {
        "id": "C_4BjLLL6MJ4",
        "colab_type": "code",
        "outputId": "31c63c19-42d2-4d54-9603-d4c5f44ba822",
        "colab": {
          "base_uri": "https://localhost:8080/",
          "height": 122
        }
      },
      "cell_type": "code",
      "source": [
        "#mount google drive to load own images, follow link and get code and paste in below\n",
        "from google.colab import drive\n",
        "drive.mount('/content/gdrive', force_remount=True)\n"
      ],
      "execution_count": 2,
      "outputs": [
        {
          "output_type": "stream",
          "text": [
            "Go to this URL in a browser: https://accounts.google.com/o/oauth2/auth?client_id=947318989803-6bn6qk8qdgf4n4g3pfee6491hc0brc4i.apps.googleusercontent.com&redirect_uri=urn%3Aietf%3Awg%3Aoauth%3A2.0%3Aoob&scope=email%20https%3A%2F%2Fwww.googleapis.com%2Fauth%2Fdocs.test%20https%3A%2F%2Fwww.googleapis.com%2Fauth%2Fdrive%20https%3A%2F%2Fwww.googleapis.com%2Fauth%2Fdrive.photos.readonly%20https%3A%2F%2Fwww.googleapis.com%2Fauth%2Fpeopleapi.readonly&response_type=code\n",
            "\n",
            "Enter your authorization code:\n",
            "··········\n",
            "Mounted at /content/gdrive\n"
          ],
          "name": "stdout"
        }
      ]
    },
    {
      "metadata": {
        "id": "qeZiKEtzBlMd",
        "colab_type": "text"
      },
      "cell_type": "markdown",
      "source": [
        "#Install and Setup "
      ]
    },
    {
      "metadata": {
        "id": "VXe-o8XtG9ki",
        "colab_type": "code",
        "outputId": "d6821493-a1f2-4749-8431-be81aa3cb517",
        "colab": {
          "base_uri": "https://localhost:8080/",
          "height": 408
        }
      },
      "cell_type": "code",
      "source": [
        "!pip install mne\n",
        "from mne import pick_types, viz, io, Epochs \n",
        "from mne import channels, find_events, concatenate_raws\n",
        "from mne import read_evokeds\n",
        "from mne.time_frequency import tfr_morlet\n",
        "\n",
        "import pandas as pd\n",
        "pd.options.display.max_columns = None\n",
        "pd.options.display.precision = 4\n",
        "\n",
        "import numpy as np\n",
        "from numpy import genfromtxt\n",
        "\n",
        "from collections import OrderedDict\n",
        "\n",
        "import matplotlib.pyplot as plt\n",
        "%matplotlib inline\n",
        "plt.rcParams[\"figure.figsize\"] = (12,12)\n",
        "\n",
        "import keras\n",
        "from keras.models import Sequential\n",
        "from keras.layers import Dense, Dropout, Activation \n",
        "from keras.layers import Flatten, Conv2D, MaxPooling2D, LSTM\n",
        "from keras.callbacks import TensorBoard\n",
        "\n",
        "from sklearn.model_selection import train_test_split\n",
        "from sklearn.utils import class_weight\n",
        "\n",
        "#install ngork\n",
        "!wget https://bin.equinox.io/c/4VmDzA7iaHb/ngrok-stable-linux-amd64.zip\n",
        "!unzip ngrok-stable-linux-amd64.zip\n"
      ],
      "execution_count": 3,
      "outputs": [
        {
          "output_type": "stream",
          "text": [
            "Collecting mne\n",
            "\u001b[?25l  Downloading https://files.pythonhosted.org/packages/fa/20/207b7780abf56afb03697c9d358b706ac22d96975c1da755cc9663f358cc/mne-0.17.0.tar.gz (6.2MB)\n",
            "\u001b[K    100% |████████████████████████████████| 6.2MB 7.4MB/s \n",
            "\u001b[?25hBuilding wheels for collected packages: mne\n",
            "  Building wheel for mne (setup.py) ... \u001b[?25l-\b \b\\\b \b|\b \b/\b \b-\b \b\\\b \b|\b \b/\b \b-\b \bdone\n",
            "\u001b[?25h  Stored in directory: /root/.cache/pip/wheels/59/23/bb/ebafe2eae31064edfb9b384131abd0ec562a9418601cde6d69\n",
            "Successfully built mne\n",
            "Installing collected packages: mne\n",
            "Successfully installed mne-0.17.0\n"
          ],
          "name": "stdout"
        },
        {
          "output_type": "stream",
          "text": [
            "Using TensorFlow backend.\n"
          ],
          "name": "stderr"
        },
        {
          "output_type": "stream",
          "text": [
            "--2019-01-29 23:49:39--  https://bin.equinox.io/c/4VmDzA7iaHb/ngrok-stable-linux-amd64.zip\n",
            "Resolving bin.equinox.io (bin.equinox.io)... 52.7.169.168, 52.45.111.123, 52.4.75.11, ...\n",
            "Connecting to bin.equinox.io (bin.equinox.io)|52.7.169.168|:443... connected.\n",
            "HTTP request sent, awaiting response... 200 OK\n",
            "Length: 5363700 (5.1M) [application/octet-stream]\n",
            "Saving to: ‘ngrok-stable-linux-amd64.zip’\n",
            "\n",
            "ngrok-stable-linux- 100%[===================>]   5.11M  3.54MB/s    in 1.4s    \n",
            "\n",
            "2019-01-29 23:49:42 (3.54 MB/s) - ‘ngrok-stable-linux-amd64.zip’ saved [5363700/5363700]\n",
            "\n",
            "Archive:  ngrok-stable-linux-amd64.zip\n",
            "  inflating: ngrok                   \n"
          ],
          "name": "stdout"
        }
      ]
    },
    {
      "metadata": {
        "id": "IUhXcNKNBpLs",
        "colab_type": "text"
      },
      "cell_type": "markdown",
      "source": [
        "#Utilities"
      ]
    },
    {
      "metadata": {
        "id": "bgjHZZ4v5lV-",
        "colab_type": "code",
        "colab": {}
      },
      "cell_type": "code",
      "source": [
        "#find the factors of a number |to add extra dimension for CNN|\n",
        "def factors(n):\n",
        "      return [i for i in range(1, n + 1) if not n%i]\n",
        "  \n",
        "##Setup TensorFlow\n",
        "def SetupTensorFlow():\n",
        "  \n",
        "  #run tensorboard\n",
        "  LOG_DIR = './log'\n",
        "  get_ipython().system_raw(\n",
        "      'tensorboard --logdir {} --host 0.0.0.0 --port 6007 &'\n",
        "      .format(LOG_DIR)\n",
        "  )\n",
        "\n",
        "  #run ngork\n",
        "  get_ipython().system_raw('./ngrok http 6007 &')\n",
        "\n",
        "  #get url\n",
        "  ! curl -s http://localhost:4040/api/tunnels | python3 -c \\\n",
        "      \"import sys, json; print(json.load(sys.stdin)['tunnels'][0]['public_url'])\"\n"
      ],
      "execution_count": 0,
      "outputs": []
    },
    {
      "metadata": {
        "id": "8AYZ_CAxBunL",
        "colab_type": "text"
      },
      "cell_type": "markdown",
      "source": [
        "#Load data function"
      ]
    },
    {
      "metadata": {
        "id": "8TRQBNDdBtov",
        "colab_type": "code",
        "colab": {}
      },
      "cell_type": "code",
      "source": [
        "#load in data files\n",
        "def load_data(filename,plot_sensors=True,plot_raw=True,plot_raw_psd=True,stim_channel=False):\n",
        "  \n",
        "  raw = io.read_raw_brainvision(filename, \n",
        "                          montage='standard_1020', \n",
        "                          eog=('HEOG', 'VEOG'), \n",
        "                          preload=True,stim_channel=stim_channel)\n",
        "  \n",
        "  #set sampling rate\n",
        "  sfreq = raw.info['sfreq']\n",
        "  print('Sampling Rate = ' + str(sfreq))\n",
        "  \n",
        "  #load channel locations\n",
        "  print('Loading Channel Locations')\n",
        "  if plot_sensors:\n",
        "    raw.plot_sensors(show_names='True')\n",
        "\n",
        "  ##Plot raw data\n",
        "  if plot_raw:\n",
        "    raw.plot(n_channels=16, block=True)\n",
        "\n",
        "   #plot raw psd \n",
        "  if plot_raw_psd:\n",
        "    raw.plot_psd(fmin=.1, fmax=100 ) \n",
        "  \n",
        "  return raw, sfreq"
      ],
      "execution_count": 0,
      "outputs": []
    },
    {
      "metadata": {
        "id": "plyPq_ruBFk2",
        "colab_type": "text"
      },
      "cell_type": "markdown",
      "source": [
        "#Preprocessing Function"
      ]
    },
    {
      "metadata": {
        "id": "FYQ-ncu_5pwp",
        "colab_type": "code",
        "colab": {}
      },
      "cell_type": "code",
      "source": [
        "def preprocess(raw, event_id, event_names, plot_psd=True, filter_data=True, \n",
        "               eeg_filter_highpass=1, plot_events=True, epoch_time=(-1,2), \n",
        "               baseline=(-.2,0), rej_thresh_uV=100,\n",
        "               epoch_decim=1, plot_electrodes=True,\n",
        "               plot_erp=True):\n",
        "\n",
        "  nsfreq = sfreq/epoch_decim #create new output freq for after epoch or wavelet decim\n",
        "  tmin=epoch_time[0] \n",
        "  tmax=epoch_time[1] \n",
        "  eeg_filter_lowpass = nsfreq/2.5  #lower to avoid aliasing from decim\n",
        "\n",
        "  #Filtering\n",
        "\n",
        "  if filter_data:             \n",
        "    print('Filtering Data')\n",
        "    raw.filter(eeg_filter_highpass,eeg_filter_lowpass, \n",
        "               method='iir', verbose='WARNING' )\n",
        "  \n",
        "  if plot_psd:\n",
        "    raw.plot_psd(fmin=eeg_filter_highpass, fmax=nsfreq/2 ) \n",
        "   \n",
        "  #artifact rejection\n",
        "  rej_thresh = rej_thresh_uV*1e-6\n",
        "\n",
        "  #Epoching\n",
        "  events = find_events(raw,shortest_event=1)\n",
        "  color = {event_nums[0]: 'red', event_nums[1]: 'black'}\n",
        "\n",
        "  #plot event timing\n",
        "  if plot_events:\n",
        "    viz.plot_events(events, sfreq, raw.first_samp, color=color,\n",
        "                        event_id=event_id)\n",
        "\n",
        "  #Constructevents\n",
        "  epochs = Epochs(raw, events=events, event_id=event_id, \n",
        "                  tmin=tmin, tmax=tmax, baseline=baseline, \n",
        "                  preload=True,reject={'eeg':rej_thresh},\n",
        "                  verbose=False, decim=epoch_decim)\n",
        "  print('sample drop %: ', (1 - len(epochs.events)/len(events)) * 100)\n",
        "   \n",
        "  if plot_electrodes or plot_erp:\n",
        "    evoked_zero = epochs[event_names[0]].average()\n",
        "    evoked_one = epochs[event_names[1]].average()  \n",
        "  \n",
        "  ## plot ERP at each electrode\n",
        "  if plot_electrodes:\n",
        "    pick = pick_types(epochs.info, meg=False, eeg=True, eog=False)\n",
        "    fig_zero = evoked_zero.plot(spatial_colors=True, picks=pick)\n",
        "    fig_zero = evoked_one.plot(spatial_colors=True, picks=pick)\n",
        "\n",
        "  ## plot ERP in each condition on same plot\n",
        "  if plot_erp:\n",
        "    evoked_dict = dict()\n",
        "    evoked_dict[event_names[0]] = evoked_zero\n",
        "    evoked_dict[event_names[1]] = evoked_one\n",
        "    colors = dict(Standard=\"Red\", Target=\"Blue\")\n",
        "    pick = evoked_dict[event_names[0]].ch_names.index('Pz')\n",
        "    viz.plot_compare_evokeds(evoked_dict, picks=pick, colors=colors,\n",
        "                                 split_legend=True)\n",
        "\n",
        "  return epochs\n",
        "\n"
      ],
      "execution_count": 0,
      "outputs": []
    },
    {
      "metadata": {
        "id": "_O-c5F6IBKtP",
        "colab_type": "text"
      },
      "cell_type": "markdown",
      "source": [
        "#FeatureEngineer Function\n",
        "\n",
        "Takes epochs object as input and settings, outputs training, test and val data\n",
        "option to use frequency or time domain"
      ]
    },
    {
      "metadata": {
        "id": "Xs-_8GRYZar7",
        "colab_type": "code",
        "colab": {}
      },
      "cell_type": "code",
      "source": [
        "def FeatureEngineer(epochs,frequency_domain=1,\n",
        "                    normalization=True,\n",
        "                    wavelet_decim=1,flims=(3,30),\n",
        "                    f_bins=20,wave_cycles=6,\n",
        "                    spect_baseline=[-1,-.5],\n",
        "                    electrodes_out=[11,12,13,14,15],\n",
        "                    test_split = 0.2, val_split = 0.2,\n",
        "                    random_seed=1017, model_type='NN'):\n",
        "  \n",
        "  #Training Settings\n",
        "  num_classes = len(event_names)\n",
        "  np.random.seed(random_seed)\n",
        "\n",
        "  if frequency_domain:\n",
        "    print('Constructing Frequency Domain Features')\n",
        "    f_low = flims[0]\n",
        "    f_high = flims[1]\n",
        "    frequencies =  np.linspace(f_low, f_high, f_bins, endpoint=True)\n",
        "\n",
        "    ## Condition0 ##\n",
        "    print('Computing Morlet Wavelets on ' + event_names[0])\n",
        "    tfr0 = tfr_morlet(epochs[event_names[0]], freqs=frequencies, \n",
        "                          n_cycles=wave_cycles, return_itc=False,\n",
        "                          picks=electrodes_out,average=False,decim=wavelet_decim)\n",
        "    tfr0 = tfr0.apply_baseline(spect_baseline,mode='mean')\n",
        "    stim_onset = np.argmax(tfr0.times>0)\n",
        "    new_times = tfr0.times[stim_onset:]\n",
        "    #reshape data\n",
        "    cond0_power_out = np.moveaxis(tfr0.data[:,:,:,stim_onset:],1,3) #move electrodes last\n",
        "    cond0_power_out = np.moveaxis(cond0_power_out,1,2) # move time second\n",
        "    #cond0_power_out[:,0:5,0:5,:] = 0 #for testing model add mark to image\n",
        "    print('Condition zero trials: ' + str(len(cond0_power_out)))\n",
        "    print(event_names[0] + ' Time Points: ' + str(len(new_times)))\n",
        "    print(event_names[0] + ' Frequencies: ' + str(len(tfr0.freqs)))\n",
        "\n",
        "    ## Condition1 ##\n",
        "    print('Computing Morlet Wavelets on ' + event_names[1])\n",
        "    tfr1 = tfr_morlet(epochs[event_names[1]], freqs=frequencies, \n",
        "                          n_cycles=wave_cycles, return_itc=False,\n",
        "                          picks=electrodes_out,average=False,decim=wavelet_decim)\n",
        "    tfr1 = tfr1.apply_baseline(spect_baseline,mode='mean')   \n",
        "    #reshape data\n",
        "    cond1_power_out = np.moveaxis(tfr1.data[:,:,:,stim_onset:],1,3)\n",
        "    cond1_power_out = np.moveaxis(cond1_power_out,1,2) # move time second\n",
        "    #cond1_power_out[:,0:5,0:5,:] = 1 #for testing model add mark to image\n",
        "    print('Condition one trials: ' + str(len(cond1_power_out)))    \n",
        "    print(event_names[1] + ' Time Points: ' + str(len(new_times)))\n",
        "    print(event_names[1] + ' Frequencies: ' + str(len(tfr1.freqs)))\n",
        "    X = np.append(cond0_power_out,cond1_power_out,0);\n",
        "\n",
        "    #reshape to trials x times x variables for LSTM and NN model\n",
        "    if model_type != 'CNN':\n",
        "      X = np.reshape(X, (X.shape[0], X.shape[1], X.shape[2] * X.shape[3]),order='F')\n",
        "    \n",
        "    #Append Data\n",
        "    Y_class = np.append(np.zeros(len(cond0_power_out)), np.ones(len(cond1_power_out)),0)\n",
        "\n",
        "\n",
        "  if not frequency_domain:\n",
        "    print('Constructing Time Domain Features')\n",
        "\n",
        "    X = np.moveaxis(epochs._data[:,:-3,:],1,2); #put channels last, remove eye and stim\n",
        "\n",
        "    #take post baseline only\n",
        "    stim_onset = np.argmax(epochs.times>0)\n",
        "    new_times = epochs.times[stim_onset:]\n",
        "    X = X[:,stim_onset:,:]\n",
        "\n",
        "    # reshape for CNN, factor middle dimensions\n",
        "    if model_type == 'CNN' and not frequency_domain:\n",
        "      all_factors = factors(X.shape[1])\n",
        "      X = np.reshape(X, (X.shape[0], int(X.shape[1]/all_factors[2]), all_factors[2], X.shape[2]),order='F')\n",
        "\n",
        "    Y_class = epochs.events[:,2]-1  #subtract 1 to make 0 and 1\n",
        "    \n",
        "  #Normalize X - need to save mean and std for future test + val\n",
        "  if normalization:\n",
        "    print('Normalizing X')\n",
        "    X = (X - np.mean(X)) / np.std(X)\n",
        "    \n",
        "  # convert class vectors to one hot Y and recast X\n",
        "  Y = keras.utils.to_categorical(Y_class, num_classes)\n",
        "  X = X.astype('float32')\n",
        "\n",
        "  # Split training test and validation data \n",
        "  val_prop = val_split / (1-test_split)\n",
        "  x_train, x_test, y_train, y_test = train_test_split(X, Y, test_size=test_split,random_state=random_seed) \n",
        "  x_train, x_val, y_train, y_val = train_test_split(x_train, y_train, test_size=val_prop, random_state=random_seed)\n",
        "\n",
        "  # Compute model input shape\n",
        "  input_shape = X.shape[1:]\n",
        "  \n",
        "  #compute class weights for uneven classes\n",
        "  y_ints = [y.argmax() for y in y_train]\n",
        "  class_weights = class_weight.compute_class_weight('balanced',\n",
        "                                                 np.unique(y_ints),\n",
        "                                                 y_ints)\n",
        "  \n",
        "  #Print some outputs\n",
        "  print('Combined X Shape: ' + str(X.shape))\n",
        "  print('Combined Y Shape: ' + str(Y_class.shape))\n",
        "  print('Y Example (should be 1s & 0s): ' + str(Y_class[0:10]))\n",
        "  print('X Range: ' + str(np.min(X)) + ':' + str(np.max(X)))\n",
        "  print('Input Shape: ' + str(input_shape))\n",
        "  print('x_train shape:', x_train.shape)\n",
        "  print(x_train.shape[0], 'train samples')\n",
        "  print(x_test.shape[0], 'test samples')\n",
        "  print(x_val.shape[0], 'validation samples')\n",
        "  print('Class Weights: ' + str(class_weights))\n",
        "\n",
        "  return x_train,x_test,x_val,y_train,y_test,y_val,input_shape,num_classes,class_weights\n"
      ],
      "execution_count": 0,
      "outputs": []
    },
    {
      "metadata": {
        "id": "mKzYDoF1TQmK",
        "colab_type": "text"
      },
      "cell_type": "markdown",
      "source": [
        "#CreateModel Function"
      ]
    },
    {
      "metadata": {
        "scrolled": false,
        "id": "JxjbgyC5G7AZ",
        "colab_type": "code",
        "colab": {}
      },
      "cell_type": "code",
      "source": [
        "def CreateModel(input_shape,num_classes,model_type='NN',batch_size=1):\n",
        "  print('Creating ' +  model_type + ' Model')\n",
        "\n",
        "  if model_type == 'LSTM':\n",
        "    ##---LSTM - Many to two, sequence of time to classes\n",
        "    units = [input_shape[1], 100, 100, 100, 100, num_classes]\n",
        "    model = Sequential()\n",
        "    model.add(LSTM(input_shape=(None, units[0]) ,units=units[1], return_sequences=True))\n",
        "    model.add(Dropout(0.2))\n",
        "    model.add(LSTM(units=units[2],return_sequences=True))\n",
        "    model.add(Dropout(0.2))\n",
        "    model.add(LSTM(units=units[3],return_sequences=True))\n",
        "    model.add(Dropout(0.2))\n",
        "    model.add(LSTM(units=units[4],return_sequences=False))\n",
        "    model.add(Dropout(0.2))\n",
        "    model.add(Dense(units=units[5]))\n",
        "    model.add(Activation(\"softmax\"))\n",
        "\n",
        "  if model_type == 'NN':\n",
        "    ##---DenseFeedforward Network\n",
        "    model = Sequential()\n",
        "    model.add(Flatten())\n",
        "    model.add(Dense(1024, activation='relu'))\n",
        "    model.add(Dropout(.20))\n",
        "    model.add(Dense(1024, activation='relu'))\n",
        "    model.add(Dropout(.20))\n",
        "    model.add(Dense(1024, activation='relu'))\n",
        "    model.add(Dropout(.20))\n",
        "       \n",
        "    model.add(Dense(num_classes, activation='softmax'))\n",
        "\n",
        "  if model_type == 'CNN':\n",
        "    ##----Convolutional Network\n",
        "    model = Sequential()\n",
        "    model.add(Conv2D(10, (3, 3), input_shape=input_shape, padding='same'))\n",
        "    model.add(Activation('relu'))\n",
        "    model.add(MaxPooling2D(pool_size=(2, 2), padding='same'))\n",
        "    model.add(Flatten())\n",
        "    model.add(Dense(10))\n",
        "    model.add(Activation('relu'))\n",
        "    model.add(Dense(num_classes))\n",
        "    model.add(Activation('softmax'))\n",
        "\n",
        "\n",
        "  # initiate adam optimizer\n",
        "  opt = keras.optimizers.Adam(lr=0.001, beta_1=0.9, beta_2=0.999, \n",
        "                              epsilon=None, decay=0.0, amsgrad=False)\n",
        "\n",
        "  # Let's train the model using RMSprop\n",
        "  model.compile(loss='categorical_crossentropy',\n",
        "                optimizer=opt,\n",
        "                metrics=['accuracy'])  \n",
        "\n",
        "  return model\n",
        "\n"
      ],
      "execution_count": 0,
      "outputs": []
    },
    {
      "metadata": {
        "id": "KGr5nu4SMGxU",
        "colab_type": "text"
      },
      "cell_type": "markdown",
      "source": [
        "#TrainTestVal Function"
      ]
    },
    {
      "metadata": {
        "id": "W8f7pG7OMG2-",
        "colab_type": "code",
        "colab": {}
      },
      "cell_type": "code",
      "source": [
        "def traintestval(model,class_weights,x_train,x_test,x_val,y_train,y_test,y_val,batch_size=1,train_epochs=20):\n",
        "  print('Training Model:')\n",
        "\n",
        "  #Train Model\n",
        "  history = model.fit(x_train, y_train,\n",
        "            batch_size=batch_size,\n",
        "            epochs=train_epochs,\n",
        "            validation_data=(x_val, y_val),\n",
        "            shuffle=True,\n",
        "            verbose=True,\n",
        "            class_weight=class_weights\n",
        "            )\n",
        "\n",
        "  #Summarize\n",
        "  model.summary()\n",
        "\n",
        "\n",
        "  # list all data in history\n",
        "  print(history.history.keys())\n",
        "  # summarize history for accuracy\n",
        "  plt.plot(history.history['acc'])\n",
        "  plt.plot(history.history['val_acc'])\n",
        "  plt.title('model accuracy')\n",
        "  plt.ylabel('accuracy')\n",
        "  plt.xlabel('epoch')\n",
        "  plt.legend(['train', 'val'], loc='upper left')\n",
        "  plt.show()\n",
        "  # summarize history for loss\n",
        "  plt.semilogy(history.history['loss'])\n",
        "  plt.semilogy(history.history['val_loss'])\n",
        "  plt.title('model loss')\n",
        "  plt.ylabel('loss')\n",
        "  plt.xlabel('epoch')\n",
        "  plt.legend(['train', 'val'], loc='upper left')\n",
        "  plt.show()\n",
        "\n",
        "\n",
        "\n",
        "  # Test on left out Test data\n",
        "  score, acc = model.evaluate(x_test, y_test, batch_size=batch_size)\n",
        "  print(model.metrics_names)\n",
        "  print('Test loss:', score)\n",
        "  print('Test accuracy:', acc)"
      ],
      "execution_count": 0,
      "outputs": []
    },
    {
      "metadata": {
        "id": "g2a98-rwL9wl",
        "colab_type": "text"
      },
      "cell_type": "markdown",
      "source": [
        "#Run Loading Data\n",
        "\n",
        "*  Each data file is from a condition in an EEG experiment, from folder in google drive\n"
      ]
    },
    {
      "metadata": {
        "id": "6A3mgX7ILZFK",
        "colab_type": "code",
        "outputId": "840a142c-6ffe-4e79-bd66-09f824dbba7a",
        "colab": {
          "base_uri": "https://localhost:8080/",
          "height": 3403
        }
      },
      "cell_type": "code",
      "source": [
        "#Data Settings#\n",
        "exp = 'bikepark'\n",
        "conditions = ['quiet','traffic']\n",
        "path = 'gdrive/My Drive/data/'\n",
        "subs = ['005', '007', '009', '010', '012', '013', '014', '015', '016', '019']\n",
        "\n",
        "#\n",
        "#subs = ['002','003','004','005','007','009','010','011', '012',\n",
        "#        '013','014','015','016','017', '018']\n",
        "for isub,sub in enumerate(subs):       \n",
        "  print('Loading data for subject number: ' + sub)\n",
        "  for icond, condition in enumerate(conditions):\n",
        "    fname = path + exp + '/' + sub + '_' + exp + '_' + condition + '.vhdr'\n",
        "    tempraw,sfreq = load_data(fname,plot_sensors=False,plot_raw=False,plot_raw_psd=False,stim_channel=True)\n",
        "    if icond==0 and isub==0:\n",
        "      raw = tempraw\n",
        "    else:\n",
        "      raw.append(tempraw)"
      ],
      "execution_count": 10,
      "outputs": [
        {
          "output_type": "stream",
          "text": [
            "Extracting parameters from gdrive/My Drive/data/bikepark/005_bikepark_quiet.vhdr...\n",
            "Setting channel info structure...\n",
            "Reading 0 ... 952379  =      0.000 ...  1904.758 secs...\n"
          ],
          "name": "stdout"
        },
        {
          "output_type": "stream",
          "text": [
            "<ipython-input-5-68ca958fb78f>:6: RuntimeWarning: Online software filter detected. Using software filter settings and ignoring hardware values\n",
            "  preload=True,stim_channel=stim_channel)\n"
          ],
          "name": "stderr"
        },
        {
          "output_type": "stream",
          "text": [
            "Used Annotations descriptions: ['Stimulus/S255', 'Stimulus/S  3', 'Stimulus/S  1', 'Stimulus/S  2', 'Stimulus/S  9', 'Stimulus/S 11', 'Stimulus/S  4', 'Stimulus/S  5', 'Stimulus/S  6', 'Stimulus/S  7']\n",
            "Sampling Rate = 500.0\n",
            "Loading Channel Locations\n",
            "Extracting parameters from gdrive/My Drive/data/bikepark/005_bikepark_traffic.vhdr...\n",
            "Setting channel info structure...\n",
            "Reading 0 ... 980079  =      0.000 ...  1960.158 secs...\n"
          ],
          "name": "stdout"
        },
        {
          "output_type": "stream",
          "text": [
            "<ipython-input-5-68ca958fb78f>:6: RuntimeWarning: Online software filter detected. Using software filter settings and ignoring hardware values\n",
            "  preload=True,stim_channel=stim_channel)\n"
          ],
          "name": "stderr"
        },
        {
          "output_type": "stream",
          "text": [
            "Used Annotations descriptions: ['Stimulus/S  3', 'Stimulus/S  1', 'Stimulus/S  2', 'Stimulus/S  9', 'Stimulus/S  4', 'Stimulus/S 13', 'Stimulus/S  5', 'Stimulus/S 11', 'Stimulus/S  6', 'Stimulus/S  7', 'Stimulus/S255']\n",
            "Sampling Rate = 500.0\n",
            "Loading Channel Locations\n",
            "Extracting parameters from gdrive/My Drive/data/bikepark/007_bikepark_quiet.vhdr...\n"
          ],
          "name": "stdout"
        },
        {
          "output_type": "stream",
          "text": [
            "<ipython-input-10-a3d859806408>:16: RuntimeWarning: Omitted 771 annotation(s) that were outside data range.\n",
            "  raw.append(tempraw)\n"
          ],
          "name": "stderr"
        },
        {
          "output_type": "stream",
          "text": [
            "Setting channel info structure...\n",
            "Reading 0 ... 982359  =      0.000 ...  1964.718 secs...\n"
          ],
          "name": "stdout"
        },
        {
          "output_type": "stream",
          "text": [
            "<ipython-input-5-68ca958fb78f>:6: RuntimeWarning: Online software filter detected. Using software filter settings and ignoring hardware values\n",
            "  preload=True,stim_channel=stim_channel)\n"
          ],
          "name": "stderr"
        },
        {
          "output_type": "stream",
          "text": [
            "Used Annotations descriptions: ['Stimulus/S  3', 'Stimulus/S  1', 'Stimulus/S  2', 'Stimulus/S  9', 'Stimulus/S  4', 'Stimulus/S 13', 'Stimulus/S 11', 'Stimulus/S 10', 'Stimulus/S  6', 'Stimulus/S  7', 'Stimulus/S255']\n",
            "Sampling Rate = 500.0\n",
            "Loading Channel Locations\n",
            "Extracting parameters from gdrive/My Drive/data/bikepark/007_bikepark_traffic.vhdr...\n"
          ],
          "name": "stdout"
        },
        {
          "output_type": "stream",
          "text": [
            "<ipython-input-10-a3d859806408>:16: RuntimeWarning: Omitted 1199 annotation(s) that were outside data range.\n",
            "  raw.append(tempraw)\n"
          ],
          "name": "stderr"
        },
        {
          "output_type": "stream",
          "text": [
            "Setting channel info structure...\n",
            "Reading 0 ... 879709  =      0.000 ...  1759.418 secs...\n"
          ],
          "name": "stdout"
        },
        {
          "output_type": "stream",
          "text": [
            "<ipython-input-5-68ca958fb78f>:6: RuntimeWarning: Online software filter detected. Using software filter settings and ignoring hardware values\n",
            "  preload=True,stim_channel=stim_channel)\n"
          ],
          "name": "stderr"
        },
        {
          "output_type": "stream",
          "text": [
            "Used Annotations descriptions: ['Stimulus/S  3', 'Stimulus/S  1', 'Stimulus/S  2', 'Stimulus/S  9', 'Stimulus/S 11', 'Stimulus/S 13', 'Stimulus/S  6', 'Stimulus/S  7', 'Stimulus/S255']\n",
            "Sampling Rate = 500.0\n",
            "Loading Channel Locations\n",
            "Extracting parameters from gdrive/My Drive/data/bikepark/009_bikepark_quiet.vhdr...\n"
          ],
          "name": "stdout"
        },
        {
          "output_type": "stream",
          "text": [
            "<ipython-input-10-a3d859806408>:16: RuntimeWarning: Omitted 1206 annotation(s) that were outside data range.\n",
            "  raw.append(tempraw)\n"
          ],
          "name": "stderr"
        },
        {
          "output_type": "stream",
          "text": [
            "Setting channel info structure...\n",
            "Reading 0 ... 1372879  =      0.000 ...  2745.758 secs...\n"
          ],
          "name": "stdout"
        },
        {
          "output_type": "stream",
          "text": [
            "<ipython-input-5-68ca958fb78f>:6: RuntimeWarning: Online software filter detected. Using software filter settings and ignoring hardware values\n",
            "  preload=True,stim_channel=stim_channel)\n"
          ],
          "name": "stderr"
        },
        {
          "output_type": "stream",
          "text": [
            "Used Annotations descriptions: ['Stimulus/S255', 'Stimulus/S  3', 'Stimulus/S  2', 'Stimulus/S  9', 'Stimulus/S  1', 'Stimulus/S  4', 'Stimulus/S  5', 'Stimulus/S 11', 'Stimulus/S  6', 'Stimulus/S  7']\n",
            "Sampling Rate = 500.0\n",
            "Loading Channel Locations\n",
            "Extracting parameters from gdrive/My Drive/data/bikepark/009_bikepark_traffic.vhdr...\n"
          ],
          "name": "stdout"
        },
        {
          "output_type": "stream",
          "text": [
            "<ipython-input-10-a3d859806408>:16: RuntimeWarning: Omitted 1208 annotation(s) that were outside data range.\n",
            "  raw.append(tempraw)\n"
          ],
          "name": "stderr"
        },
        {
          "output_type": "stream",
          "text": [
            "Setting channel info structure...\n",
            "Reading 0 ... 853929  =      0.000 ...  1707.858 secs...\n"
          ],
          "name": "stdout"
        },
        {
          "output_type": "stream",
          "text": [
            "<ipython-input-5-68ca958fb78f>:6: RuntimeWarning: Online software filter detected. Using software filter settings and ignoring hardware values\n",
            "  preload=True,stim_channel=stim_channel)\n"
          ],
          "name": "stderr"
        },
        {
          "output_type": "stream",
          "text": [
            "Used Annotations descriptions: ['Stimulus/S  3', 'Stimulus/S  2', 'Stimulus/S  9', 'Stimulus/S  1', 'Stimulus/S  4', 'Stimulus/S 13', 'Stimulus/S  5', 'Stimulus/S  6', 'Stimulus/S  7', 'Stimulus/S255']\n",
            "Sampling Rate = 500.0\n",
            "Loading Channel Locations\n",
            "Extracting parameters from gdrive/My Drive/data/bikepark/010_bikepark_quiet.vhdr...\n"
          ],
          "name": "stdout"
        },
        {
          "output_type": "stream",
          "text": [
            "<ipython-input-10-a3d859806408>:16: RuntimeWarning: Omitted 1208 annotation(s) that were outside data range.\n",
            "  raw.append(tempraw)\n"
          ],
          "name": "stderr"
        },
        {
          "output_type": "stream",
          "text": [
            "Setting channel info structure...\n",
            "Reading 0 ... 971479  =      0.000 ...  1942.958 secs...\n"
          ],
          "name": "stdout"
        },
        {
          "output_type": "stream",
          "text": [
            "<ipython-input-5-68ca958fb78f>:6: RuntimeWarning: Online software filter detected. Using software filter settings and ignoring hardware values\n",
            "  preload=True,stim_channel=stim_channel)\n"
          ],
          "name": "stderr"
        },
        {
          "output_type": "stream",
          "text": [
            "Used Annotations descriptions: ['Stimulus/S  3', 'Stimulus/S  1', 'Stimulus/S  2', 'Stimulus/S  9', 'Stimulus/S 11', 'Stimulus/S  4', 'Stimulus/S  5', 'Stimulus/S  6', 'Stimulus/S  7', 'Stimulus/S255']\n",
            "Sampling Rate = 500.0\n",
            "Loading Channel Locations\n",
            "Extracting parameters from gdrive/My Drive/data/bikepark/010_bikepark_traffic.vhdr...\n"
          ],
          "name": "stdout"
        },
        {
          "output_type": "stream",
          "text": [
            "<ipython-input-10-a3d859806408>:16: RuntimeWarning: Omitted 1209 annotation(s) that were outside data range.\n",
            "  raw.append(tempraw)\n"
          ],
          "name": "stderr"
        },
        {
          "output_type": "stream",
          "text": [
            "Setting channel info structure...\n",
            "Reading 0 ... 1214799  =      0.000 ...  2429.598 secs...\n"
          ],
          "name": "stdout"
        },
        {
          "output_type": "stream",
          "text": [
            "<ipython-input-5-68ca958fb78f>:6: RuntimeWarning: Online software filter detected. Using software filter settings and ignoring hardware values\n",
            "  preload=True,stim_channel=stim_channel)\n"
          ],
          "name": "stderr"
        },
        {
          "output_type": "stream",
          "text": [
            "Used Annotations descriptions: ['Stimulus/S  3', 'Stimulus/S  1', 'Stimulus/S  2', 'Stimulus/S  9', 'Stimulus/S 11', 'Stimulus/S 13', 'Stimulus/S  4', 'Stimulus/S  5', 'Stimulus/S  6', 'Stimulus/S  7', 'Stimulus/S255']\n",
            "Sampling Rate = 500.0\n",
            "Loading Channel Locations\n",
            "Extracting parameters from gdrive/My Drive/data/bikepark/012_bikepark_quiet.vhdr...\n"
          ],
          "name": "stdout"
        },
        {
          "output_type": "stream",
          "text": [
            "<ipython-input-10-a3d859806408>:16: RuntimeWarning: Omitted 1205 annotation(s) that were outside data range.\n",
            "  raw.append(tempraw)\n"
          ],
          "name": "stderr"
        },
        {
          "output_type": "stream",
          "text": [
            "Setting channel info structure...\n",
            "Reading 0 ... 863459  =      0.000 ...  1726.918 secs...\n"
          ],
          "name": "stdout"
        },
        {
          "output_type": "stream",
          "text": [
            "<ipython-input-5-68ca958fb78f>:6: RuntimeWarning: Online software filter detected. Using software filter settings and ignoring hardware values\n",
            "  preload=True,stim_channel=stim_channel)\n"
          ],
          "name": "stderr"
        },
        {
          "output_type": "stream",
          "text": [
            "Used Annotations descriptions: ['Stimulus/S  3', 'Stimulus/S  1', 'Stimulus/S  2', 'Stimulus/S  9', 'Stimulus/S 11', 'Stimulus/S  4', 'Stimulus/S  5', 'Stimulus/S  6', 'Stimulus/S  7', 'Stimulus/S255']\n",
            "Sampling Rate = 500.0\n",
            "Loading Channel Locations\n",
            "Extracting parameters from gdrive/My Drive/data/bikepark/012_bikepark_traffic.vhdr...\n"
          ],
          "name": "stdout"
        },
        {
          "output_type": "stream",
          "text": [
            "<ipython-input-10-a3d859806408>:16: RuntimeWarning: Omitted 1210 annotation(s) that were outside data range.\n",
            "  raw.append(tempraw)\n"
          ],
          "name": "stderr"
        },
        {
          "output_type": "stream",
          "text": [
            "Setting channel info structure...\n",
            "Reading 0 ... 1577229  =      0.000 ...  3154.458 secs...\n"
          ],
          "name": "stdout"
        },
        {
          "output_type": "stream",
          "text": [
            "<ipython-input-5-68ca958fb78f>:6: RuntimeWarning: Online software filter detected. Using software filter settings and ignoring hardware values\n",
            "  preload=True,stim_channel=stim_channel)\n"
          ],
          "name": "stderr"
        },
        {
          "output_type": "stream",
          "text": [
            "Used Annotations descriptions: ['Stimulus/S  3', 'Stimulus/S  1', 'Stimulus/S  2', 'Stimulus/S  9', 'Stimulus/S 11', 'Stimulus/S  4', 'Stimulus/S 13', 'Stimulus/S  5', 'Stimulus/S  6', 'Stimulus/S  7', 'Stimulus/S255']\n",
            "Sampling Rate = 500.0\n",
            "Loading Channel Locations\n",
            "Extracting parameters from gdrive/My Drive/data/bikepark/013_bikepark_quiet.vhdr...\n"
          ],
          "name": "stdout"
        },
        {
          "output_type": "stream",
          "text": [
            "<ipython-input-10-a3d859806408>:16: RuntimeWarning: Omitted 1806 annotation(s) that were outside data range.\n",
            "  raw.append(tempraw)\n"
          ],
          "name": "stderr"
        },
        {
          "output_type": "stream",
          "text": [
            "Setting channel info structure...\n",
            "Reading 0 ... 1308179  =      0.000 ...  2616.358 secs...\n"
          ],
          "name": "stdout"
        },
        {
          "output_type": "stream",
          "text": [
            "<ipython-input-5-68ca958fb78f>:6: RuntimeWarning: Online software filter detected. Using software filter settings and ignoring hardware values\n",
            "  preload=True,stim_channel=stim_channel)\n"
          ],
          "name": "stderr"
        },
        {
          "output_type": "stream",
          "text": [
            "Used Annotations descriptions: ['Stimulus/S  3', 'Stimulus/S  1', 'Stimulus/S  2', 'Stimulus/S  9', 'Stimulus/S  4', 'Stimulus/S  5', 'Stimulus/S 11', 'Stimulus/S  6', 'Stimulus/S  7', 'Stimulus/S255']\n",
            "Sampling Rate = 500.0\n",
            "Loading Channel Locations\n",
            "Extracting parameters from gdrive/My Drive/data/bikepark/013_bikepark_traffic.vhdr...\n"
          ],
          "name": "stdout"
        },
        {
          "output_type": "stream",
          "text": [
            "<ipython-input-10-a3d859806408>:16: RuntimeWarning: Omitted 1204 annotation(s) that were outside data range.\n",
            "  raw.append(tempraw)\n"
          ],
          "name": "stderr"
        },
        {
          "output_type": "stream",
          "text": [
            "Setting channel info structure...\n",
            "Reading 0 ... 1015009  =      0.000 ...  2030.018 secs...\n"
          ],
          "name": "stdout"
        },
        {
          "output_type": "stream",
          "text": [
            "<ipython-input-5-68ca958fb78f>:6: RuntimeWarning: Online software filter detected. Using software filter settings and ignoring hardware values\n",
            "  preload=True,stim_channel=stim_channel)\n"
          ],
          "name": "stderr"
        },
        {
          "output_type": "stream",
          "text": [
            "Used Annotations descriptions: ['Stimulus/S  3', 'Stimulus/S  2', 'Stimulus/S  1', 'Stimulus/S  9', 'Stimulus/S  4', 'Stimulus/S  5', 'Stimulus/S 11', 'Stimulus/S  6', 'Stimulus/S  7', 'Stimulus/S255']\n",
            "Sampling Rate = 500.0\n",
            "Loading Channel Locations\n",
            "Extracting parameters from gdrive/My Drive/data/bikepark/014_bikepark_quiet.vhdr...\n"
          ],
          "name": "stdout"
        },
        {
          "output_type": "stream",
          "text": [
            "<ipython-input-10-a3d859806408>:16: RuntimeWarning: Omitted 1207 annotation(s) that were outside data range.\n",
            "  raw.append(tempraw)\n"
          ],
          "name": "stderr"
        },
        {
          "output_type": "stream",
          "text": [
            "Setting channel info structure...\n",
            "Reading 0 ... 1219869  =      0.000 ...  2439.738 secs...\n"
          ],
          "name": "stdout"
        },
        {
          "output_type": "stream",
          "text": [
            "<ipython-input-5-68ca958fb78f>:6: RuntimeWarning: Online software filter detected. Using software filter settings and ignoring hardware values\n",
            "  preload=True,stim_channel=stim_channel)\n"
          ],
          "name": "stderr"
        },
        {
          "output_type": "stream",
          "text": [
            "Used Annotations descriptions: ['Stimulus/S  3', 'Stimulus/S  1', 'Stimulus/S  2', 'Stimulus/S  9', 'Stimulus/S  4', 'Stimulus/S 11', 'Stimulus/S  5', 'Stimulus/S  6', 'Stimulus/S  7', 'Stimulus/S255']\n",
            "Sampling Rate = 500.0\n",
            "Loading Channel Locations\n",
            "Extracting parameters from gdrive/My Drive/data/bikepark/014_bikepark_traffic.vhdr...\n"
          ],
          "name": "stdout"
        },
        {
          "output_type": "stream",
          "text": [
            "<ipython-input-10-a3d859806408>:16: RuntimeWarning: Omitted 1195 annotation(s) that were outside data range.\n",
            "  raw.append(tempraw)\n"
          ],
          "name": "stderr"
        },
        {
          "output_type": "stream",
          "text": [
            "Setting channel info structure...\n",
            "Reading 0 ... 1391329  =      0.000 ...  2782.658 secs...\n"
          ],
          "name": "stdout"
        },
        {
          "output_type": "stream",
          "text": [
            "<ipython-input-5-68ca958fb78f>:6: RuntimeWarning: Online software filter detected. Using software filter settings and ignoring hardware values\n",
            "  preload=True,stim_channel=stim_channel)\n"
          ],
          "name": "stderr"
        },
        {
          "output_type": "stream",
          "text": [
            "Used Annotations descriptions: ['Stimulus/S  3', 'Stimulus/S  1', 'Stimulus/S  2', 'Stimulus/S  9', 'Stimulus/S 11', 'Stimulus/S  4', 'Stimulus/S  5', 'Stimulus/S 15', 'Stimulus/S  7', 'Stimulus/S255']\n",
            "Sampling Rate = 500.0\n",
            "Loading Channel Locations\n",
            "Extracting parameters from gdrive/My Drive/data/bikepark/015_bikepark_quiet.vhdr...\n"
          ],
          "name": "stdout"
        },
        {
          "output_type": "stream",
          "text": [
            "<ipython-input-10-a3d859806408>:16: RuntimeWarning: Omitted 1201 annotation(s) that were outside data range.\n",
            "  raw.append(tempraw)\n"
          ],
          "name": "stderr"
        },
        {
          "output_type": "stream",
          "text": [
            "Setting channel info structure...\n",
            "Reading 0 ... 1262439  =      0.000 ...  2524.878 secs...\n"
          ],
          "name": "stdout"
        },
        {
          "output_type": "stream",
          "text": [
            "<ipython-input-5-68ca958fb78f>:6: RuntimeWarning: Online software filter detected. Using software filter settings and ignoring hardware values\n",
            "  preload=True,stim_channel=stim_channel)\n"
          ],
          "name": "stderr"
        },
        {
          "output_type": "stream",
          "text": [
            "Used Annotations descriptions: ['Stimulus/S  3', 'Stimulus/S255', 'Stimulus/S  1', 'Stimulus/S  2', 'Stimulus/S  9', 'Stimulus/S  4', 'Stimulus/S  5', 'Stimulus/S 11', 'Stimulus/S  6', 'Stimulus/S  7']\n",
            "Sampling Rate = 500.0\n",
            "Loading Channel Locations\n",
            "Extracting parameters from gdrive/My Drive/data/bikepark/015_bikepark_traffic.vhdr...\n"
          ],
          "name": "stdout"
        },
        {
          "output_type": "stream",
          "text": [
            "<ipython-input-10-a3d859806408>:16: RuntimeWarning: Omitted 1209 annotation(s) that were outside data range.\n",
            "  raw.append(tempraw)\n"
          ],
          "name": "stderr"
        },
        {
          "output_type": "stream",
          "text": [
            "Setting channel info structure...\n",
            "Reading 0 ... 940909  =      0.000 ...  1881.818 secs...\n"
          ],
          "name": "stdout"
        },
        {
          "output_type": "stream",
          "text": [
            "<ipython-input-5-68ca958fb78f>:6: RuntimeWarning: Online software filter detected. Using software filter settings and ignoring hardware values\n",
            "  preload=True,stim_channel=stim_channel)\n"
          ],
          "name": "stderr"
        },
        {
          "output_type": "stream",
          "text": [
            "Used Annotations descriptions: ['Stimulus/S  3', 'Stimulus/S  1', 'Stimulus/S  2', 'Stimulus/S  9', 'Stimulus/S  4', 'Stimulus/S 11', 'Stimulus/S  5', 'Stimulus/S 15', 'Stimulus/S  6', 'Stimulus/S  7', 'Stimulus/S255']\n",
            "Sampling Rate = 500.0\n",
            "Loading Channel Locations\n",
            "Extracting parameters from gdrive/My Drive/data/bikepark/016_bikepark_quiet.vhdr...\n"
          ],
          "name": "stdout"
        },
        {
          "output_type": "stream",
          "text": [
            "<ipython-input-10-a3d859806408>:16: RuntimeWarning: Omitted 1211 annotation(s) that were outside data range.\n",
            "  raw.append(tempraw)\n"
          ],
          "name": "stderr"
        },
        {
          "output_type": "stream",
          "text": [
            "Setting channel info structure...\n",
            "Reading 0 ... 936189  =      0.000 ...  1872.378 secs...\n"
          ],
          "name": "stdout"
        },
        {
          "output_type": "stream",
          "text": [
            "<ipython-input-5-68ca958fb78f>:6: RuntimeWarning: Online software filter detected. Using software filter settings and ignoring hardware values\n",
            "  preload=True,stim_channel=stim_channel)\n"
          ],
          "name": "stderr"
        },
        {
          "output_type": "stream",
          "text": [
            "Used Annotations descriptions: ['Stimulus/S  3', 'Stimulus/S  1', 'Stimulus/S  2', 'Stimulus/S  9', 'Stimulus/S  4', 'Stimulus/S 11', 'Stimulus/S  5', 'Stimulus/S  6', 'Stimulus/S 15', 'Stimulus/S  7', 'Stimulus/S255']\n",
            "Sampling Rate = 500.0\n",
            "Loading Channel Locations\n",
            "Extracting parameters from gdrive/My Drive/data/bikepark/016_bikepark_traffic.vhdr...\n"
          ],
          "name": "stdout"
        },
        {
          "output_type": "stream",
          "text": [
            "<ipython-input-10-a3d859806408>:16: RuntimeWarning: Omitted 1209 annotation(s) that were outside data range.\n",
            "  raw.append(tempraw)\n"
          ],
          "name": "stderr"
        },
        {
          "output_type": "stream",
          "text": [
            "Setting channel info structure...\n",
            "Reading 0 ... 1292389  =      0.000 ...  2584.778 secs...\n"
          ],
          "name": "stdout"
        },
        {
          "output_type": "stream",
          "text": [
            "<ipython-input-5-68ca958fb78f>:6: RuntimeWarning: Online software filter detected. Using software filter settings and ignoring hardware values\n",
            "  preload=True,stim_channel=stim_channel)\n"
          ],
          "name": "stderr"
        },
        {
          "output_type": "stream",
          "text": [
            "Used Annotations descriptions: ['Stimulus/S  3', 'Stimulus/S  1', 'Stimulus/S255', 'Stimulus/S  2', 'Stimulus/S  9', 'Stimulus/S  4', 'Stimulus/S  5', 'Stimulus/S 11', 'Stimulus/S 15', 'Stimulus/S  6', 'Stimulus/S  7']\n",
            "Sampling Rate = 500.0\n",
            "Loading Channel Locations\n",
            "Extracting parameters from gdrive/My Drive/data/bikepark/019_bikepark_quiet.vhdr...\n"
          ],
          "name": "stdout"
        },
        {
          "output_type": "stream",
          "text": [
            "<ipython-input-10-a3d859806408>:16: RuntimeWarning: Omitted 1214 annotation(s) that were outside data range.\n",
            "  raw.append(tempraw)\n"
          ],
          "name": "stderr"
        },
        {
          "output_type": "stream",
          "text": [
            "Setting channel info structure...\n",
            "Reading 0 ... 926969  =      0.000 ...  1853.938 secs...\n"
          ],
          "name": "stdout"
        },
        {
          "output_type": "stream",
          "text": [
            "<ipython-input-5-68ca958fb78f>:6: RuntimeWarning: Online software filter detected. Using software filter settings and ignoring hardware values\n",
            "  preload=True,stim_channel=stim_channel)\n"
          ],
          "name": "stderr"
        },
        {
          "output_type": "stream",
          "text": [
            "Used Annotations descriptions: ['Stimulus/S  3', 'Stimulus/S  1', 'Stimulus/S  2', 'Stimulus/S  9', 'Stimulus/S 11', 'Stimulus/S  4', 'Stimulus/S  5', 'Stimulus/S  6', 'Stimulus/S  7', 'Stimulus/S255']\n",
            "Sampling Rate = 500.0\n",
            "Loading Channel Locations\n",
            "Extracting parameters from gdrive/My Drive/data/bikepark/019_bikepark_traffic.vhdr...\n"
          ],
          "name": "stdout"
        },
        {
          "output_type": "stream",
          "text": [
            "<ipython-input-10-a3d859806408>:16: RuntimeWarning: Omitted 1208 annotation(s) that were outside data range.\n",
            "  raw.append(tempraw)\n"
          ],
          "name": "stderr"
        },
        {
          "output_type": "stream",
          "text": [
            "Setting channel info structure...\n",
            "Reading 0 ... 973459  =      0.000 ...  1946.918 secs...\n"
          ],
          "name": "stdout"
        },
        {
          "output_type": "stream",
          "text": [
            "<ipython-input-5-68ca958fb78f>:6: RuntimeWarning: Online software filter detected. Using software filter settings and ignoring hardware values\n",
            "  preload=True,stim_channel=stim_channel)\n"
          ],
          "name": "stderr"
        },
        {
          "output_type": "stream",
          "text": [
            "Used Annotations descriptions: ['Stimulus/S  1', 'Stimulus/S255', 'Stimulus/S  3', 'Stimulus/S  2', 'Stimulus/S  9', 'Stimulus/S 11', 'Stimulus/S  4', 'Stimulus/S  5', 'Stimulus/S  6', 'Stimulus/S  7']\n",
            "Sampling Rate = 500.0\n",
            "Loading Channel Locations\n"
          ],
          "name": "stdout"
        },
        {
          "output_type": "stream",
          "text": [
            "<ipython-input-10-a3d859806408>:16: RuntimeWarning: Omitted 1228 annotation(s) that were outside data range.\n",
            "  raw.append(tempraw)\n"
          ],
          "name": "stderr"
        }
      ]
    },
    {
      "metadata": {
        "id": "AVBtNVebDtUc",
        "colab_type": "text"
      },
      "cell_type": "markdown",
      "source": [
        "#Run Preprocessing"
      ]
    },
    {
      "metadata": {
        "id": "RLIKMk6P453f",
        "colab_type": "code",
        "outputId": "5de29132-fd5e-4e90-b3dd-7718c664789d",
        "colab": {
          "base_uri": "https://localhost:8080/",
          "height": 34
        }
      },
      "cell_type": "code",
      "source": [
        "##Preprocessing Settings\n",
        "event_names = ['Standard','Target']\n",
        "event_nums = [1,2] # 1 Standard, 2 Target, 9 Response\n",
        "event_id = {event_names[0]: event_nums[0], event_names[1]: event_nums[1]} #create dict\n",
        "\n",
        "#keep epoch_decim=1 if using frequency_domain\n",
        "\n",
        "epochs = preprocess(raw, event_id, event_names, plot_psd=False, filter_data=True, \n",
        "               eeg_filter_highpass=1, plot_events=False, epoch_time=(-.1,.8), \n",
        "               baseline=(-.1,0), rej_thresh_uV=100,\n",
        "               epoch_decim=10, plot_electrodes=True,\n",
        "               plot_erp=True)\n"
      ],
      "execution_count": 0,
      "outputs": [
        {
          "output_type": "stream",
          "text": [
            "Filtering Data\n"
          ],
          "name": "stdout"
        }
      ]
    },
    {
      "metadata": {
        "id": "pwqD_voiDypa",
        "colab_type": "text"
      },
      "cell_type": "markdown",
      "source": [
        "#Run FeatureEngineer"
      ]
    },
    {
      "metadata": {
        "id": "i_jYlTW1A6sb",
        "colab_type": "code",
        "colab": {}
      },
      "cell_type": "code",
      "source": [
        "x_train, x_test, x_val, y_train, y_test, y_val, input_shape, num_classes, class_weights = FeatureEngineer( epochs,\n",
        "                    frequency_domain=0, \n",
        "                    normalization=True,\n",
        "                    wavelet_decim=1,flims=(2,30),\n",
        "                    f_bins=20,wave_cycles=3,\n",
        "                    spect_baseline=[-1,-.5],\n",
        "                    electrodes_out= [13,14,15],\n",
        "                    #electrodes_out= pick_types(epochs.info, meg=False, eeg=True, eog=False),\n",
        "                    random_seed=1017,model_type = 'LSTM')\n"
      ],
      "execution_count": 0,
      "outputs": []
    },
    {
      "metadata": {
        "id": "9ChMvr-jKp8P",
        "colab_type": "text"
      },
      "cell_type": "markdown",
      "source": [
        "# Run CreateModel"
      ]
    },
    {
      "metadata": {
        "id": "HFf3rBbJKqHR",
        "colab_type": "code",
        "colab": {}
      },
      "cell_type": "code",
      "source": [
        "model = CreateModel(input_shape,num_classes, \n",
        "                    model_type='LSTM', batch_size = 16)"
      ],
      "execution_count": 0,
      "outputs": []
    },
    {
      "metadata": {
        "id": "ymh6WT4nMDt3",
        "colab_type": "text"
      },
      "cell_type": "markdown",
      "source": [
        "#Run TrainTestVal"
      ]
    },
    {
      "metadata": {
        "id": "a2Fr3GECJ9WO",
        "colab_type": "code",
        "colab": {}
      },
      "cell_type": "code",
      "source": [
        "traintestval(model, class_weights,\n",
        "             x_train,x_test,x_val,\n",
        "             y_train,y_test,y_val,\n",
        "             batch_size=16,train_epochs=20)\n"
      ],
      "execution_count": 0,
      "outputs": []
    }
  ]
}