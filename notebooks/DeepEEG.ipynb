{
  "nbformat": 4,
  "nbformat_minor": 0,
  "metadata": {
    "colab": {
      "name": "DeepEEG.ipynb",
      "version": "0.3.2",
      "provenance": [],
      "include_colab_link": true
    },
    "kernelspec": {
      "name": "python3",
      "display_name": "Python 3"
    },
    "accelerator": "GPU"
  },
  "cells": [
    {
      "cell_type": "markdown",
      "metadata": {
        "id": "view-in-github",
        "colab_type": "text"
      },
      "source": [
        "<a href=\"https://colab.research.google.com/github/kylemath/DeepEEG/blob/master/notebooks/DeepEEG.ipynb\" target=\"_parent\"><img src=\"https://colab.research.google.com/assets/colab-badge.svg\" alt=\"Open In Colab\"/></a>"
      ]
    },
    {
      "metadata": {
        "id": "cH7KRd8ZZPMd",
        "colab_type": "text"
      },
      "cell_type": "markdown",
      "source": [
        "## DeepEEG\n",
        "\n",
        "Goal is to make deep learning stacks that processes generally EEG trials as input and predicts binary trial category as output. This is all made to run on Google Colab notebooks using cloud GPU capabilities, so the git repo's get loaded at the start of the code into the workspace. Minor mods may be needed to use local Jupyter notebook. Long term goal of command line interface and mne toolbox plugin.\n",
        "\n",
        "Strategy:\n",
        "* Load in Brain Products files with mne, \n",
        "* normal pre-processing to get to trials\n",
        "* Options for frequency or time domain\n",
        "* Decimate time to reduce features\n",
        "* Dataset example: P300 during biking outside? \n",
        "\n",
        "API:\n",
        "* Input the data directory and subject numbers of any eeg-notebook experiment (https://github.com/kylemath/eeg-notebooks)\n",
        "* Load in .vhdr brain products files\n",
        "* FeatureEngineer can load any mne Epoch object - https://martinos.org/mne/stable/generated/mne.Epochs.html\n",
        "* More general with the master eeg-notebooks - https://github.com/NeuroTechX/eeg-notebooks\n",
        "\n",
        "LearningModels:\n",
        "* First try basic Neural Network (NN)\n",
        "* Then try Convolution Neural Net (CNN)\n",
        "* Then try Long-Short Term Memory Recurrant Neural Net (LSTM, RNN)\n",
        "\n",
        "DataModels:\n",
        "* Try subject specific models \n",
        "* Then pool data over all subjects\n",
        "* Then try multilevel models\n",
        "\n",
        "Using: \n",
        "* https://github.com/kylemath/eeg-notebooks\n",
        "* https://github.com/mne-tools/mne-python\n",
        "* https://github.com/keras-team/keras/blob/master/examples/imdb_cnn_lstm.py\n",
        "* https://github.com/ml4a/ml4a-guides/blob/master/notebooks/keras_classification.ipynb\n",
        "* https://github.com/tevisgehr/EEG-Classification\n",
        "\n",
        "Resources:\n",
        "* https://arxiv.org/pdf/1901.05498.pdf \n",
        "* http://proceedings.mlr.press/v56/Thodoroff16.pdf\n",
        "*  https://arxiv.org/abs/1511.06448\n",
        "*  https://github.com/ml4a"
      ]
    },
    {
      "metadata": {
        "id": "dSd-Wr_qBirE",
        "colab_type": "text"
      },
      "cell_type": "markdown",
      "source": [
        "#Connect to Google Drive"
      ]
    },
    {
      "metadata": {
        "id": "C_4BjLLL6MJ4",
        "colab_type": "code",
        "outputId": "66c94854-ec6c-42ae-f63b-f50d2c996b83",
        "colab": {
          "base_uri": "https://localhost:8080/",
          "height": 122
        }
      },
      "cell_type": "code",
      "source": [
        "#mount google drive to load own images, follow link and get code and paste in below\n",
        "from google.colab import drive\n",
        "drive.mount('/content/gdrive', force_remount=True)\n"
      ],
      "execution_count": 1,
      "outputs": [
        {
          "output_type": "stream",
          "text": [
            "Go to this URL in a browser: https://accounts.google.com/o/oauth2/auth?client_id=947318989803-6bn6qk8qdgf4n4g3pfee6491hc0brc4i.apps.googleusercontent.com&redirect_uri=urn%3Aietf%3Awg%3Aoauth%3A2.0%3Aoob&scope=email%20https%3A%2F%2Fwww.googleapis.com%2Fauth%2Fdocs.test%20https%3A%2F%2Fwww.googleapis.com%2Fauth%2Fdrive%20https%3A%2F%2Fwww.googleapis.com%2Fauth%2Fdrive.photos.readonly%20https%3A%2F%2Fwww.googleapis.com%2Fauth%2Fpeopleapi.readonly&response_type=code\n",
            "\n",
            "Enter your authorization code:\n",
            "··········\n",
            "Mounted at /content/gdrive\n"
          ],
          "name": "stdout"
        }
      ]
    },
    {
      "metadata": {
        "id": "qeZiKEtzBlMd",
        "colab_type": "text"
      },
      "cell_type": "markdown",
      "source": [
        "#Install and Setup "
      ]
    },
    {
      "metadata": {
        "id": "VXe-o8XtG9ki",
        "colab_type": "code",
        "outputId": "d9244a6e-0239-426c-9f35-569777c2ac30",
        "colab": {
          "base_uri": "https://localhost:8080/",
          "height": 408
        }
      },
      "cell_type": "code",
      "source": [
        "!pip install mne\n",
        "from mne import pick_types, viz, io, Epochs \n",
        "from mne import channels, find_events, concatenate_raws\n",
        "from mne import read_evokeds\n",
        "from mne.time_frequency import tfr_morlet\n",
        "\n",
        "import pandas as pd\n",
        "pd.options.display.max_columns = None\n",
        "pd.options.display.precision = 4\n",
        "\n",
        "import numpy as np\n",
        "from numpy import genfromtxt\n",
        "\n",
        "from collections import OrderedDict\n",
        "\n",
        "import matplotlib.pyplot as plt\n",
        "%matplotlib inline\n",
        "plt.rcParams[\"figure.figsize\"] = (12,12)\n",
        "\n",
        "import keras\n",
        "from keras.models import Sequential\n",
        "from keras.layers import Dense, Dropout, Activation \n",
        "from keras.layers import Flatten, Conv2D, MaxPooling2D, LSTM\n",
        "from sklearn.model_selection import train_test_split\n",
        "from keras.callbacks import TensorBoard\n",
        "\n",
        "#install ngork\n",
        "!wget https://bin.equinox.io/c/4VmDzA7iaHb/ngrok-stable-linux-amd64.zip\n",
        "!unzip ngrok-stable-linux-amd64.zip\n"
      ],
      "execution_count": 2,
      "outputs": [
        {
          "output_type": "stream",
          "text": [
            "Collecting mne\n",
            "\u001b[?25l  Downloading https://files.pythonhosted.org/packages/fa/20/207b7780abf56afb03697c9d358b706ac22d96975c1da755cc9663f358cc/mne-0.17.0.tar.gz (6.2MB)\n",
            "\u001b[K    100% |████████████████████████████████| 6.2MB 6.7MB/s \n",
            "\u001b[?25hBuilding wheels for collected packages: mne\n",
            "  Running setup.py bdist_wheel for mne ... \u001b[?25l-\b \b\\\b \b|\b \b/\b \b-\b \b\\\b \b|\b \b/\b \b-\b \b\\\b \bdone\n",
            "\u001b[?25h  Stored in directory: /root/.cache/pip/wheels/59/23/bb/ebafe2eae31064edfb9b384131abd0ec562a9418601cde6d69\n",
            "Successfully built mne\n",
            "Installing collected packages: mne\n",
            "Successfully installed mne-0.17.0\n"
          ],
          "name": "stdout"
        },
        {
          "output_type": "stream",
          "text": [
            "Using TensorFlow backend.\n"
          ],
          "name": "stderr"
        },
        {
          "output_type": "stream",
          "text": [
            "--2019-01-28 00:48:47--  https://bin.equinox.io/c/4VmDzA7iaHb/ngrok-stable-linux-amd64.zip\n",
            "Resolving bin.equinox.io (bin.equinox.io)... 52.87.35.92, 52.72.250.2, 52.71.139.107, ...\n",
            "Connecting to bin.equinox.io (bin.equinox.io)|52.87.35.92|:443... connected.\n",
            "HTTP request sent, awaiting response... 200 OK\n",
            "Length: 5363700 (5.1M) [application/octet-stream]\n",
            "Saving to: ‘ngrok-stable-linux-amd64.zip’\n",
            "\n",
            "ngrok-stable-linux- 100%[===================>]   5.11M  9.80MB/s    in 0.5s    \n",
            "\n",
            "2019-01-28 00:48:48 (9.80 MB/s) - ‘ngrok-stable-linux-amd64.zip’ saved [5363700/5363700]\n",
            "\n",
            "Archive:  ngrok-stable-linux-amd64.zip\n",
            "  inflating: ngrok                   \n"
          ],
          "name": "stdout"
        }
      ]
    },
    {
      "metadata": {
        "id": "IUhXcNKNBpLs",
        "colab_type": "text"
      },
      "cell_type": "markdown",
      "source": [
        "#Utilities"
      ]
    },
    {
      "metadata": {
        "id": "bgjHZZ4v5lV-",
        "colab_type": "code",
        "colab": {}
      },
      "cell_type": "code",
      "source": [
        "#find the factors of a number |to add extra dimension for CNN|\n",
        "def factors(n):\n",
        "      return [i for i in range(1, n + 1) if not n%i]\n",
        "  \n",
        "##Setup TensorFlow\n",
        "def SetupTensorFlow():\n",
        "  \n",
        "  #run tensorboard\n",
        "  LOG_DIR = './log'\n",
        "  get_ipython().system_raw(\n",
        "      'tensorboard --logdir {} --host 0.0.0.0 --port 6007 &'\n",
        "      .format(LOG_DIR)\n",
        "  )\n",
        "\n",
        "  #run ngork\n",
        "  get_ipython().system_raw('./ngrok http 6007 &')\n",
        "\n",
        "  #get url\n",
        "  ! curl -s http://localhost:4040/api/tunnels | python3 -c \\\n",
        "      \"import sys, json; print(json.load(sys.stdin)['tunnels'][0]['public_url'])\"\n"
      ],
      "execution_count": 0,
      "outputs": []
    },
    {
      "metadata": {
        "id": "8AYZ_CAxBunL",
        "colab_type": "text"
      },
      "cell_type": "markdown",
      "source": [
        "#Load data function"
      ]
    },
    {
      "metadata": {
        "id": "8TRQBNDdBtov",
        "colab_type": "code",
        "colab": {}
      },
      "cell_type": "code",
      "source": [
        "#load in data files\n",
        "def load_data(filename,plot_sensors=True,plot_raw=True,plot_raw_psd=True):\n",
        "  \n",
        "  raw = io.read_raw_brainvision(filename, \n",
        "                          montage='standard_1020', \n",
        "                          eog=('HEOG', 'VEOG'), \n",
        "                          preload=True)\n",
        "  \n",
        "  #set sampling rate\n",
        "  sfreq = raw.info['sfreq']\n",
        "  print('Sampling Rate = ' + str(sfreq))\n",
        "  \n",
        "  #load channel locations\n",
        "  print('Loading Channel Locations')\n",
        "  if plot_sensors:\n",
        "    raw.plot_sensors(show_names='True')\n",
        "\n",
        "  ##Plot raw data\n",
        "  if plot_raw:\n",
        "    raw.plot(n_channels=16, block=True)\n",
        "\n",
        "   #plot raw psd \n",
        "  if plot_raw_psd:\n",
        "    raw.plot_psd(fmin=.1, fmax=100 ) \n",
        "   \n",
        "  \n",
        "  return raw, sfreq"
      ],
      "execution_count": 0,
      "outputs": []
    },
    {
      "metadata": {
        "id": "plyPq_ruBFk2",
        "colab_type": "text"
      },
      "cell_type": "markdown",
      "source": [
        "#Preprocessing Function"
      ]
    },
    {
      "metadata": {
        "id": "FYQ-ncu_5pwp",
        "colab_type": "code",
        "colab": {}
      },
      "cell_type": "code",
      "source": [
        "def preprocess(raw, event_id, event_names, plot_psd=True, filter_data=True, \n",
        "               eeg_filter_highpass=1, plot_events=True, epoch_time=(-1,2), \n",
        "               baseline=(-.2,0), rej_thresh_uV=100,\n",
        "               epoch_decim=1, plot_electrodes=True,\n",
        "               plot_erp=True):\n",
        "\n",
        "  nsfreq = sfreq/epoch_decim #create new output freq for after epoch or wavelet decim\n",
        "  tmin=epoch_time[0] \n",
        "  tmax=epoch_time[1] \n",
        "  eeg_filter_lowpass = nsfreq/2.5  #lower to avoid aliasing from decim\n",
        "\n",
        "  #Filtering\n",
        "\n",
        "  if filter_data:             \n",
        "    print('Filtering Data')\n",
        "    raw.filter(eeg_filter_highpass,eeg_filter_lowpass, \n",
        "               method='iir', verbose='WARNING' )\n",
        "  \n",
        "  if plot_psd:\n",
        "    raw.plot_psd(fmin=eeg_filter_highpass, fmax=nsfreq/2 ) \n",
        "   \n",
        "  #artifact rejection\n",
        "  rej_thresh = rej_thresh_uV*1e-6\n",
        "\n",
        "  #Epoching\n",
        "  events = find_events(raw,shortest_event=1)\n",
        "  color = {event_nums[0]: 'red', event_nums[1]: 'black'}\n",
        "\n",
        "  #plot event timing\n",
        "  if plot_events:\n",
        "    viz.plot_events(events, sfreq, raw.first_samp, color=color,\n",
        "                        event_id=event_id)\n",
        "\n",
        "  #Constructevents\n",
        "  epochs = Epochs(raw, events=events, event_id=event_id, \n",
        "                  tmin=tmin, tmax=tmax, baseline=baseline, \n",
        "                  preload=True,reject={'eeg':rej_thresh},\n",
        "                  verbose=False, decim=epoch_decim)\n",
        "  print('sample drop %: ', (1 - len(epochs.events)/len(events)) * 100)\n",
        "   \n",
        "  if plot_electrodes:\n",
        "    print('testElec')\n",
        "  ## plot ERP on each trial\n",
        "    #need to fix these so they are general to any experiement \\lookup in event_id?\n",
        "\n",
        "    #pick = pick_types(evoked_target.info, meg=False, eeg=True, eog=False)\n",
        "    #fig_stand =evoked_standard.plot(spatial_colors=True, picks=pick)\n",
        "    #fig_stand.tight_layout()\n",
        "    #fig_targ = evoked_target.plot(spatial_colors=True, picks=pick)\n",
        "    #fig_targ.tight_layout()\n",
        "\n",
        "  if plot_erp:\n",
        "    evoked_zero = epochs[event_names[0]].average()\n",
        "    evoked_one = epochs[event_names[1]].average()\n",
        "    print(event_names)\n",
        "    ## plot ERP in each condition on same plot\n",
        "    evoked_dict = dict()\n",
        "    evoked_dict[event_names[0]] = evoked_zero\n",
        "    evoked_dict[event_names[1]] = evoked_one\n",
        "    print(evoked_dict)\n",
        "    colors = dict(Standard=\"Red\", Target=\"Blue\")\n",
        "    pick = evoked_dict[event_names[0]].ch_names.index('Pz')\n",
        "    viz.plot_compare_evokeds(evoked_dict, picks=pick, colors=colors,\n",
        "                                 split_legend=True)\n",
        "\n",
        "  return epochs\n",
        "\n"
      ],
      "execution_count": 0,
      "outputs": []
    },
    {
      "metadata": {
        "id": "_O-c5F6IBKtP",
        "colab_type": "text"
      },
      "cell_type": "markdown",
      "source": [
        "#FeatureEngineer Function\n",
        "\n",
        "Takes epochs object as input and settings, outputs training, test and val data\n",
        "option to use frequency or time domain"
      ]
    },
    {
      "metadata": {
        "id": "Xs-_8GRYZar7",
        "colab_type": "code",
        "colab": {}
      },
      "cell_type": "code",
      "source": [
        "def FeatureEngineer(epochs,frequency_domain=1,\n",
        "                    normalization=True,\n",
        "                    wavelet_decim=1,flims=(3,30),\n",
        "                    f_bins=20,wave_cycles=6,\n",
        "                    spect_baseline=[-1,-.5],\n",
        "                    electrodes_out=[11,12,13,14,15],\n",
        "                    test_split = 0.2, val_split = 0.2,\n",
        "                    random_seed=1017, model_type='NN'):\n",
        "  \n",
        "  #Training Settings\n",
        "  num_classes = len(event_ids)\n",
        "  np.random.seed(random_seed)\n",
        "\n",
        "  if frequency_domain:\n",
        "    print('Constructing Frequency Domain Features')\n",
        "    f_low = flims[0]\n",
        "    f_high = flims[1]\n",
        "    frequencies =  np.linspace(f_low, f_high, f_bins, endpoint=True)\n",
        "\n",
        "    ## Condition0 ##\n",
        "    print('Computing Morlet Wavelets on ' + event_ids[0])\n",
        "    tfr0 = tfr_morlet(epochs[event_ids[0]], freqs=frequencies, \n",
        "                          n_cycles=wave_cycles, return_itc=False,\n",
        "                          picks=electrodes_out,average=False,decim=wavelet_decim)\n",
        "    tfr0 = tfr0.apply_baseline(spect_baseline,mode='mean')\n",
        "    stim_onset = np.argmax(tfr0.times>0)\n",
        "    new_times = tfr0.times[stim_onset:]\n",
        "    #reshape data\n",
        "    cond0_power_out = np.moveaxis(tfr0.data[:,:,:,stim_onset:],1,3) #move electrodes last\n",
        "    cond0_power_out = np.moveaxis(cond0_power_out,1,2) # move time second\n",
        "    #cond0_power_out[:,0:5,0:5,:] = 0 #for testing model add mark to image\n",
        "    print('Condition zero trials: ' + str(len(cond0_power_out)))\n",
        "    print(event_ids[0] + ' Time Points: ' + str(len(new_times)))\n",
        "    print(event_ids[0] + ' Frequencies: ' + str(len(tfr0.freqs)))\n",
        "\n",
        "    ## Condition1 ##\n",
        "    print('Computing Morlet Wavelets on ' + event_ids[1])\n",
        "    tfr1 = tfr_morlet(epochs[event_ids[1]], freqs=frequencies, \n",
        "                          n_cycles=wave_cycles, return_itc=False,\n",
        "                          picks=electrodes_out,average=False,decim=wavelet_decim)\n",
        "    tfr1 = tfr1.apply_baseline(spect_baseline,mode='mean')\n",
        "    #reshape data\n",
        "    cond1_power_out = np.moveaxis(tfr1.data[:,:,:,stim_onset:],1,3)\n",
        "    cond1_power_out = np.moveaxis(cond1_power_out,1,2) # move time second\n",
        "    #cond1_power_out[:,0:5,0:5,:] = 1 #for testing model add mark to image\n",
        "    print('Condition one trials: ' + str(len(cond1_power_out)))    \n",
        "    print(event_ids[1] + ' Time Points: ' + str(len(new_times)))\n",
        "    print(event_ids[1] + ' Frequencies: ' + str(len(tfr1.freqs)))\n",
        "    X = np.append(cond0_power_out,cond1_power_out,0);\n",
        "\n",
        "    #reshape to trials x times x variables for LSTM and NN model\n",
        "    if model_type != 'CNN':\n",
        "      X = np.reshape(X, (X.shape[0], X.shape[1], X.shape[2] * X.shape[3]),order='F')\n",
        "    \n",
        "    #Append Data\n",
        "    Y_class = np.append(np.zeros(len(cond0_power_out)), np.ones(len(cond1_power_out)),0)\n",
        "\n",
        "\n",
        "  if not frequency_domain:\n",
        "    print('Constructing Time Domain Features')\n",
        "\n",
        "    X = np.moveaxis(epochs._data[:,:-3,:],1,2); #put channels last, remove eye and stim\n",
        "\n",
        "    #take post baseline only\n",
        "    stim_onset = np.argmax(epochs.times>0)\n",
        "    new_times = epochs.times[stim_onset:]\n",
        "    X = X[:,stim_onset:,:]\n",
        "\n",
        "    # reshape for CNN, factor middle dimensions\n",
        "    if model_type == 'CNN' and not frequency_domain:\n",
        "      all_factors = factors(X.shape[1])\n",
        "      X = np.reshape(X, (X.shape[0], int(X.shape[1]/all_factors[2]), all_factors[2], X.shape[2]),order='F')\n",
        "\n",
        "    Y_class = epochs.events[:,2]-1  #subtract 1 to make 0 and 1\n",
        "\n",
        "\n",
        "  #Normalize X - need to save mean and std for future test + val\n",
        "  if normalization:\n",
        "    print('Normalizing X')\n",
        "    X = (X - np.mean(X)) / np.std(X)\n",
        "    \n",
        "  # convert class vectors to one hot Y and recast X\n",
        "  Y = keras.utils.to_categorical(Y_class, num_classes)\n",
        "  X = X.astype('float32')\n",
        "\n",
        "  # Split training test and validation data \n",
        "  val_prop = val_split / (1-test_split)\n",
        "  x_train, x_test, y_train, y_test = train_test_split(X, Y, test_size=test_split,random_state=random_seed) \n",
        "  x_train, x_val, y_train, y_val = train_test_split(x_train, y_train, test_size=val_prop, random_state=random_seed)\n",
        "\n",
        "  # Compute model input shape\n",
        "  input_shape = X.shape[1:]\n",
        "  \n",
        "  #Print some outputs\n",
        "  print('Combined X Shape: ' + str(X.shape))\n",
        "  print('Combined Y Shape: ' + str(Y_class.shape))\n",
        "  print('Y Example (should be 1s & 0s): ' + str(Y_class[0:10]))\n",
        "  print('X Range: ' + str(np.min(X)) + ':' + str(np.max(X)))\n",
        "  print('Input Shape: ' + str(input_shape))\n",
        "  print('x_train shape:', x_train.shape)\n",
        "  print(x_train.shape[0], 'train samples')\n",
        "  print(x_test.shape[0], 'test samples')\n",
        "  print(x_val.shape[0], 'validation samples')\n",
        "\n",
        "  return x_train, x_test, x_val, y_train, y_test, y_val, input_shape, num_classes\n"
      ],
      "execution_count": 0,
      "outputs": []
    },
    {
      "metadata": {
        "id": "mKzYDoF1TQmK",
        "colab_type": "text"
      },
      "cell_type": "markdown",
      "source": [
        "#CreateModel Function"
      ]
    },
    {
      "metadata": {
        "scrolled": false,
        "id": "JxjbgyC5G7AZ",
        "colab_type": "code",
        "colab": {}
      },
      "cell_type": "code",
      "source": [
        "def CreateModel(input_shape,num_classes,model_type='NN',batch_size=1):\n",
        "  print('Creating ' +  model_type + ' Model')\n",
        "\n",
        "  if model_type == 'LSTM':\n",
        "    ##---LSTM - Many to two, sequence of time to classes\n",
        "    units = [input_shape[1], 4, 4, num_classes]\n",
        "    model = Sequential()\n",
        "    model.add(LSTM(input_shape=(None, units[0]) ,units=units[1], return_sequences=True))\n",
        "    model.add(Dropout(0.2))\n",
        "    model.add(LSTM(units=units[2],return_sequences=False))\n",
        "    model.add(Dropout(0.2))\n",
        "    model.add(Dense(units=units[3]))\n",
        "    model.add(Activation(\"softmax\"))\n",
        "\n",
        "  if model_type == 'NN':\n",
        "    ##---DenseFeedforward Network\n",
        "    model = Sequential()\n",
        "    model.add(Flatten())\n",
        "    model.add(Dense(10, activation='relu'))\n",
        "    model.add(Dropout(.20))\n",
        "    model.add(Dense(20, activation='relu'))\n",
        "    model.add(Dropout(.20))\n",
        "    model.add(Dense(30, activation='relu'))\n",
        "    model.add(Dropout(.20))\n",
        "    model.add(Dense(20, activation='relu'))\n",
        "    model.add(Dropout(.20))\n",
        "    model.add(Dense(10, activation='relu'))\n",
        "    model.add(Dropout(.20))\n",
        "    model.add(Dense(num_classes, activation='softmax'))\n",
        "\n",
        "  if model_type == 'CNN':\n",
        "    ##----Convolutional Network\n",
        "    model = Sequential()\n",
        "    model.add(Conv2D(10, (3, 3), input_shape=input_shape, padding='same'))\n",
        "    model.add(Activation('relu'))\n",
        "    model.add(MaxPooling2D(pool_size=(2, 2), padding='same'))\n",
        "    model.add(Flatten())\n",
        "    model.add(Dense(10))\n",
        "    model.add(Activation('relu'))\n",
        "    model.add(Dense(num_classes))\n",
        "    model.add(Activation('softmax'))\n",
        "\n",
        "\n",
        "  # initiate adam optimizer\n",
        "  opt = keras.optimizers.Adam(lr=0.001, beta_1=0.9, beta_2=0.999, \n",
        "                              epsilon=None, decay=0.0, amsgrad=False)\n",
        "\n",
        "  # Let's train the model using RMSprop\n",
        "  model.compile(loss='categorical_crossentropy',\n",
        "                optimizer=opt,\n",
        "                metrics=['accuracy'])  \n",
        "\n",
        "  return model\n",
        "\n"
      ],
      "execution_count": 0,
      "outputs": []
    },
    {
      "metadata": {
        "id": "KGr5nu4SMGxU",
        "colab_type": "text"
      },
      "cell_type": "markdown",
      "source": [
        "#TrainTestVal Function"
      ]
    },
    {
      "metadata": {
        "id": "W8f7pG7OMG2-",
        "colab_type": "code",
        "colab": {}
      },
      "cell_type": "code",
      "source": [
        "def traintestval(model,x_train,x_test,x_val,y_train,y_test,y_val,batch_size=1,train_epochs=20):\n",
        "  print('Training Model:')\n",
        "\n",
        "  #Train Model\n",
        "  history = model.fit(x_train, y_train,\n",
        "            batch_size=batch_size,\n",
        "            epochs=train_epochs,\n",
        "            validation_data=(x_val, y_val),\n",
        "            shuffle=True,\n",
        "            verbose=True\n",
        "            )\n",
        "\n",
        "  #Summarize\n",
        "  model.summary()\n",
        "\n",
        "\n",
        "  # list all data in history\n",
        "  print(history.history.keys())\n",
        "  # summarize history for accuracy\n",
        "  plt.plot(history.history['acc'])\n",
        "  plt.plot(history.history['val_acc'])\n",
        "  plt.title('model accuracy')\n",
        "  plt.ylabel('accuracy')\n",
        "  plt.xlabel('epoch')\n",
        "  plt.legend(['train', 'val'], loc='upper left')\n",
        "  plt.show()\n",
        "  # summarize history for loss\n",
        "  plt.semilogy(history.history['loss'])\n",
        "  plt.semilogy(history.history['val_loss'])\n",
        "  plt.title('model loss')\n",
        "  plt.ylabel('loss')\n",
        "  plt.xlabel('epoch')\n",
        "  plt.legend(['train', 'val'], loc='upper left')\n",
        "  plt.show()\n",
        "\n",
        "\n",
        "\n",
        "  # Test on left out Test data\n",
        "  score, acc = model.evaluate(x_test, y_test, batch_size=batch_size)\n",
        "  print(model.metrics_names)\n",
        "  print('Test loss:', score)\n",
        "  print('Test accuracy:', acc)"
      ],
      "execution_count": 0,
      "outputs": []
    },
    {
      "metadata": {
        "id": "g2a98-rwL9wl",
        "colab_type": "text"
      },
      "cell_type": "markdown",
      "source": [
        "#Run Loading Data\n",
        "\n",
        "*  Each data file is from a condition in an EEG experiment, from folder in google drive\n"
      ]
    },
    {
      "metadata": {
        "id": "6A3mgX7ILZFK",
        "colab_type": "code",
        "colab": {
          "base_uri": "https://localhost:8080/",
          "height": 391
        },
        "outputId": "dc58126b-f046-4153-8baf-503d7a15ce28"
      },
      "cell_type": "code",
      "source": [
        "#Data Settings#\n",
        "sub = '019'\n",
        "exp = 'bikepark'\n",
        "conditions = ['quiet','traffic']\n",
        "path = 'gdrive/My Drive/data/'\n",
        "\n",
        "#Subject 1\n",
        "#Condition1\n",
        "fname = path + exp + '/' + sub + '_' + exp + '_' + conditions[0] + '.vhdr'\n",
        "raw,sfreq = load_data(fname,plot_sensors=False,plot_raw=False,plot_raw_psd=False)\n",
        "\n",
        "#Condition2\n",
        "fname = path + exp + '/' + sub + '_' + exp + '_' + conditions[1] + '.vhdr'\n",
        "tempraw,sfreq = load_data(fname,plot_sensors=False,plot_raw=False,plot_raw_psd=False)\n",
        "raw.append(tempraw)\n",
        "\n"
      ],
      "execution_count": 9,
      "outputs": [
        {
          "output_type": "stream",
          "text": [
            "Extracting parameters from gdrive/My Drive/data/bikepark/019_bikepark_quiet.vhdr...\n"
          ],
          "name": "stdout"
        },
        {
          "output_type": "stream",
          "text": [
            "<ipython-input-4-65709b91dce5>:6: DeprecationWarning: stim_channel (default True in 0.17) will change to False in 0.18 and be removed in 0.19, set it to False in 0.17 to avoid this warning\n",
            "  preload=True)\n"
          ],
          "name": "stderr"
        },
        {
          "output_type": "stream",
          "text": [
            "Setting channel info structure...\n",
            "Reading 0 ... 926969  =      0.000 ...  1853.938 secs...\n"
          ],
          "name": "stdout"
        },
        {
          "output_type": "stream",
          "text": [
            "<ipython-input-4-65709b91dce5>:6: RuntimeWarning: Online software filter detected. Using software filter settings and ignoring hardware values\n",
            "  preload=True)\n"
          ],
          "name": "stderr"
        },
        {
          "output_type": "stream",
          "text": [
            "Used Annotations descriptions: ['Stimulus/S  3', 'Stimulus/S  1', 'Stimulus/S  2', 'Stimulus/S  9', 'Stimulus/S 11', 'Stimulus/S  4', 'Stimulus/S  5', 'Stimulus/S  6', 'Stimulus/S  7', 'Stimulus/S255']\n",
            "Sampling Rate = 500.0\n",
            "Loading Channel Locations\n",
            "Extracting parameters from gdrive/My Drive/data/bikepark/019_bikepark_traffic.vhdr...\n"
          ],
          "name": "stdout"
        },
        {
          "output_type": "stream",
          "text": [
            "<ipython-input-4-65709b91dce5>:6: DeprecationWarning: stim_channel (default True in 0.17) will change to False in 0.18 and be removed in 0.19, set it to False in 0.17 to avoid this warning\n",
            "  preload=True)\n"
          ],
          "name": "stderr"
        },
        {
          "output_type": "stream",
          "text": [
            "Setting channel info structure...\n",
            "Reading 0 ... 973459  =      0.000 ...  1946.918 secs...\n"
          ],
          "name": "stdout"
        },
        {
          "output_type": "stream",
          "text": [
            "<ipython-input-4-65709b91dce5>:6: RuntimeWarning: Online software filter detected. Using software filter settings and ignoring hardware values\n",
            "  preload=True)\n"
          ],
          "name": "stderr"
        },
        {
          "output_type": "stream",
          "text": [
            "Used Annotations descriptions: ['Stimulus/S  1', 'Stimulus/S255', 'Stimulus/S  3', 'Stimulus/S  2', 'Stimulus/S  9', 'Stimulus/S 11', 'Stimulus/S  4', 'Stimulus/S  5', 'Stimulus/S  6', 'Stimulus/S  7']\n",
            "Sampling Rate = 500.0\n",
            "Loading Channel Locations\n"
          ],
          "name": "stdout"
        },
        {
          "output_type": "stream",
          "text": [
            "<ipython-input-9-2d7301eefc00>:14: RuntimeWarning: Omitted 266 annotation(s) that were outside data range.\n",
            "  raw.append(tempraw)\n"
          ],
          "name": "stderr"
        }
      ]
    },
    {
      "metadata": {
        "id": "AVBtNVebDtUc",
        "colab_type": "text"
      },
      "cell_type": "markdown",
      "source": [
        "#Run Preprocessing"
      ]
    },
    {
      "metadata": {
        "id": "RLIKMk6P453f",
        "colab_type": "code",
        "outputId": "9ee818ff-f7ef-463a-c1d5-655cdc9596bf",
        "colab": {
          "base_uri": "https://localhost:8080/",
          "height": 500
        }
      },
      "cell_type": "code",
      "source": [
        "##Preprocessing Settings\n",
        "event_names = ['Standard','Target']\n",
        "event_nums = [1,2] # 1 Standard, 2 Target, 9 Response\n",
        "event_id = {event_names[0]: event_nums[0], event_names[1]: event_nums[1]} #create dict\n",
        "\n",
        "#keep epoch_decim=1 if using frequency_domain\n",
        "\n",
        "epochs = preprocess(raw, event_id, event_names, plot_psd=False, filter_data=True, \n",
        "               eeg_filter_highpass=1, plot_events=False, epoch_time=(-.2,1), \n",
        "               baseline=(-.2,0), rej_thresh_uV=500,\n",
        "               epoch_decim=1, plot_electrodes=False,\n",
        "               plot_erp=True)\n"
      ],
      "execution_count": 53,
      "outputs": [
        {
          "output_type": "stream",
          "text": [
            "Filtering Data\n",
            "2434 events found\n",
            "Event IDs: [  1   2   3   4   5   6   7   9  11 255]\n",
            "sample drop %:  17.502054231717334\n",
            "['Standard', 'Target']\n",
            "{'Standard': <Evoked  |  'Standard' (mean, N=1608), [-0.2, 1] sec, 16 ch, ~121 kB>, 'Target': <Evoked  |  'Target' (mean, N=400), [-0.2, 1] sec, 16 ch, ~121 kB>}\n"
          ],
          "name": "stdout"
        },
        {
          "output_type": "display_data",
          "data": {
            "image/png": "[encoded data removed]",
            "text/plain": [
              "<Figure size 576x432 with 2 Axes>"
            ]
          },
          "metadata": {
            "tags": []
          }
        }
      ]
    },
    {
      "metadata": {
        "id": "pwqD_voiDypa",
        "colab_type": "text"
      },
      "cell_type": "markdown",
      "source": [
        "#Run FeatureEngineer"
      ]
    },
    {
      "metadata": {
        "id": "i_jYlTW1A6sb",
        "colab_type": "code",
        "outputId": "16f57baa-ae1d-4360-cc30-65d9aafe21f0",
        "colab": {
          "base_uri": "https://localhost:8080/",
          "height": 374
        }
      },
      "cell_type": "code",
      "source": [
        "x_train, x_test, x_val, y_train, y_test, y_val, input_shape, num_classes = FeatureEngineer( epochs,\n",
        "                    frequency_domain=1, \n",
        "                    normalization=True,\n",
        "                    wavelet_decim=1,flims=(2,30),\n",
        "                    f_bins=20,wave_cycles=3,\n",
        "                    spect_baseline=[-1,-.5],\n",
        "                    electrodes_out= [13,14,15],\n",
        "                    electrodes_out= pick_types(epochs.info, meg=False, eeg=True, eog=False),\n",
        "                    random_seed=1017,model_type = 'CNN')\n"
      ],
      "execution_count": 17,
      "outputs": [
        {
          "output_type": "stream",
          "text": [
            "Constructing Frequency Domain Features\n",
            "Computing Morlet Wavelets on Standard\n",
            "Applying baseline correction (mode: mean)\n",
            "Condition zero trials: 1598\n",
            "Standard Time Points: 1000\n",
            "Standard Frequencies: 20\n",
            "Computing Morlet Wavelets on Target\n",
            "Applying baseline correction (mode: mean)\n",
            "Condition one trials: 399\n",
            "Target Time Points: 1000\n",
            "Target Frequencies: 20\n",
            "Normalizing X\n",
            "Combined X Shape: (1997, 1000, 20, 3)\n",
            "Combined Y Shape: (1997,)\n",
            "Y Example (should be 1s & 0s): [0. 0. 0. 0. 0. 0. 0. 0. 0. 0.]\n",
            "X Range: -23.508392:54.574566\n",
            "Input Shape: (1000, 20, 3)\n",
            "x_train shape: (1197, 1000, 20, 3)\n",
            "1197 train samples\n",
            "400 test samples\n",
            "400 validation samples\n"
          ],
          "name": "stdout"
        }
      ]
    },
    {
      "metadata": {
        "id": "9ChMvr-jKp8P",
        "colab_type": "text"
      },
      "cell_type": "markdown",
      "source": [
        "# Run CreateModel"
      ]
    },
    {
      "metadata": {
        "id": "HFf3rBbJKqHR",
        "colab_type": "code",
        "outputId": "2d858b88-fa85-4b16-d6af-05dfea3bc4b1",
        "colab": {
          "base_uri": "https://localhost:8080/",
          "height": 34
        }
      },
      "cell_type": "code",
      "source": [
        "model = CreateModel(input_shape,num_classes, \n",
        "                    model_type='CNN', batch_size = 20)"
      ],
      "execution_count": 23,
      "outputs": [
        {
          "output_type": "stream",
          "text": [
            "Creating CNN Model\n"
          ],
          "name": "stdout"
        }
      ]
    },
    {
      "metadata": {
        "id": "ymh6WT4nMDt3",
        "colab_type": "text"
      },
      "cell_type": "markdown",
      "source": [
        "#Run TrainTestVal"
      ]
    },
    {
      "metadata": {
        "id": "a2Fr3GECJ9WO",
        "colab_type": "code",
        "outputId": "dd606e6b-63ed-4f52-e0a3-9413521c27eb",
        "colab": {
          "base_uri": "https://localhost:8080/",
          "height": 2631
        }
      },
      "cell_type": "code",
      "source": [
        "traintestval(model,\n",
        "             x_train,x_test,x_val,\n",
        "             y_train,y_test,y_val,\n",
        "             batch_size=20,train_epochs=20)\n"
      ],
      "execution_count": 24,
      "outputs": [
        {
          "output_type": "stream",
          "text": [
            "Training Model:\n",
            "Train on 1197 samples, validate on 400 samples\n",
            "Epoch 1/20\n",
            "1197/1197 [==============================] - 3s 3ms/step - loss: 0.5536 - acc: 0.7861 - val_loss: 0.4293 - val_acc: 0.8075\n",
            "Epoch 2/20\n",
            "1197/1197 [==============================] - 1s 828us/step - loss: 0.4372 - acc: 0.8079 - val_loss: 0.4953 - val_acc: 0.8075\n",
            "Epoch 3/20\n",
            "1197/1197 [==============================] - 1s 823us/step - loss: 0.4143 - acc: 0.8079 - val_loss: 0.4259 - val_acc: 0.8075\n",
            "Epoch 4/20\n",
            "1197/1197 [==============================] - 1s 810us/step - loss: 0.4059 - acc: 0.8079 - val_loss: 0.4192 - val_acc: 0.8075\n",
            "Epoch 5/20\n",
            "1197/1197 [==============================] - 1s 812us/step - loss: 0.3892 - acc: 0.8079 - val_loss: 0.4228 - val_acc: 0.8075\n",
            "Epoch 6/20\n",
            "1197/1197 [==============================] - 1s 782us/step - loss: 0.3904 - acc: 0.8079 - val_loss: 0.4235 - val_acc: 0.8075\n",
            "Epoch 7/20\n",
            "1197/1197 [==============================] - 1s 790us/step - loss: 0.3670 - acc: 0.8079 - val_loss: 0.4473 - val_acc: 0.8075\n",
            "Epoch 8/20\n",
            "1197/1197 [==============================] - 1s 779us/step - loss: 0.3579 - acc: 0.8079 - val_loss: 0.4681 - val_acc: 0.8075\n",
            "Epoch 9/20\n",
            "1197/1197 [==============================] - 1s 787us/step - loss: 0.3460 - acc: 0.8195 - val_loss: 0.4630 - val_acc: 0.8125\n",
            "Epoch 10/20\n",
            "1197/1197 [==============================] - 1s 779us/step - loss: 0.3308 - acc: 0.8396 - val_loss: 0.4649 - val_acc: 0.7925\n",
            "Epoch 11/20\n",
            "1197/1197 [==============================] - 1s 766us/step - loss: 0.3382 - acc: 0.8446 - val_loss: 0.4792 - val_acc: 0.8050\n",
            "Epoch 12/20\n",
            "1197/1197 [==============================] - 1s 762us/step - loss: 0.3107 - acc: 0.8596 - val_loss: 0.5043 - val_acc: 0.7975\n",
            "Epoch 13/20\n",
            "1197/1197 [==============================] - 1s 748us/step - loss: 0.3261 - acc: 0.8413 - val_loss: 0.4904 - val_acc: 0.7750\n",
            "Epoch 14/20\n",
            "1197/1197 [==============================] - 1s 735us/step - loss: 0.2989 - acc: 0.8672 - val_loss: 0.5155 - val_acc: 0.7925\n",
            "Epoch 15/20\n",
            "1197/1197 [==============================] - 1s 730us/step - loss: 0.2928 - acc: 0.8630 - val_loss: 0.5229 - val_acc: 0.7975\n",
            "Epoch 16/20\n",
            "1197/1197 [==============================] - 1s 737us/step - loss: 0.2776 - acc: 0.8730 - val_loss: 0.5818 - val_acc: 0.7825\n",
            "Epoch 17/20\n",
            "1197/1197 [==============================] - 1s 739us/step - loss: 0.2653 - acc: 0.8881 - val_loss: 0.5656 - val_acc: 0.7775\n",
            "Epoch 18/20\n",
            "1197/1197 [==============================] - 1s 737us/step - loss: 0.2632 - acc: 0.8789 - val_loss: 0.5732 - val_acc: 0.7625\n",
            "Epoch 19/20\n",
            "1197/1197 [==============================] - 1s 749us/step - loss: 0.2527 - acc: 0.8822 - val_loss: 0.6180 - val_acc: 0.7775\n",
            "Epoch 20/20\n",
            "1197/1197 [==============================] - 1s 746us/step - loss: 0.2461 - acc: 0.8989 - val_loss: 0.5529 - val_acc: 0.7350\n",
            "_________________________________________________________________\n",
            "Layer (type)                 Output Shape              Param #   \n",
            "=================================================================\n",
            "conv2d_2 (Conv2D)            (None, 1000, 20, 10)      280       \n",
            "_________________________________________________________________\n",
            "activation_4 (Activation)    (None, 1000, 20, 10)      0         \n",
            "_________________________________________________________________\n",
            "max_pooling2d_2 (MaxPooling2 (None, 500, 10, 10)       0         \n",
            "_________________________________________________________________\n",
            "flatten_4 (Flatten)          (None, 50000)             0         \n",
            "_________________________________________________________________\n",
            "dense_15 (Dense)             (None, 10)                500010    \n",
            "_________________________________________________________________\n",
            "activation_5 (Activation)    (None, 10)                0         \n",
            "_________________________________________________________________\n",
            "dense_16 (Dense)             (None, 2)                 22        \n",
            "_________________________________________________________________\n",
            "activation_6 (Activation)    (None, 2)                 0         \n",
            "=================================================================\n",
            "Total params: 500,312\n",
            "Trainable params: 500,312\n",
            "Non-trainable params: 0\n",
            "_________________________________________________________________\n",
            "dict_keys(['val_loss', 'val_acc', 'loss', 'acc'])\n"
          ],
          "name": "stdout"
        },
        {
          "output_type": "display_data",
          "data": {
            "image/png": "[encoded data removed]",
            "text/plain": [
              "<Figure size 864x864 with 1 Axes>"
            ]
          },
          "metadata": {
            "tags": []
          }
        },
        {
          "output_type": "display_data",
          "data": {
            "image/png": "[encoded data removed]",
            "text/plain": [
              "<Figure size 864x864 with 1 Axes>"
            ]
          },
          "metadata": {
            "tags": []
          }
        },
        {
          "output_type": "stream",
          "text": [
            "400/400 [==============================] - 0s 349us/step\n",
            "['loss', 'acc']\n",
            "Test loss: 0.627852487564087\n",
            "Test accuracy: 0.7075000017881393\n"
          ],
          "name": "stdout"
        }
      ]
    }
  ]
}