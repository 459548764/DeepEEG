{
  "nbformat": 4,
  "nbformat_minor": 0,
  "metadata": {
    "colab": {
      "name": "Deep_EEG_Muse.ipynb",
      "version": "0.3.2",
      "provenance": [],
      "collapsed_sections": [],
      "toc_visible": true,
      "include_colab_link": true
    },
    "kernelspec": {
      "name": "python3",
      "display_name": "Python 3"
    },
    "accelerator": "GPU"
  },
  "cells": [
    {
      "cell_type": "markdown",
      "metadata": {
        "id": "view-in-github",
        "colab_type": "text"
      },
      "source": [
        "<a href=\"https://colab.research.google.com/github/kylemath/DeepEEG/blob/master/notebooks/Deep_EEG_Muse.ipynb\" target=\"_parent\"><img src=\"https://colab.research.google.com/assets/colab-badge.svg\" alt=\"Open In Colab\"/></a>"
      ]
    },
    {
      "metadata": {
        "id": "cH7KRd8ZZPMd",
        "colab_type": "text"
      },
      "cell_type": "markdown",
      "source": [
        "## DeepEEG\n"
      ]
    },
    {
      "metadata": {
        "id": "KjZu4dFMFHJV",
        "colab_type": "code",
        "outputId": "12ac9913-2505-4198-c492-655ad56c5d23",
        "colab": {
          "base_uri": "https://localhost:8080/",
          "height": 649
        }
      },
      "cell_type": "code",
      "source": [
        "!git clone https://github.com/kylemath/DeepEEG\n",
        "!chmod +x ./DeepEEG/install.sh\n",
        "%cd DeepEEG\n",
        "!./install.sh\n",
        "from utils import *\n",
        "%matplotlib inline"
      ],
      "execution_count": 5,
      "outputs": [
        {
          "output_type": "stream",
          "text": [
            "fatal: destination path 'DeepEEG' already exists and is not an empty directory.\n",
            "/content/DeepEEG\n",
            "Requirement already up-to-date: pip in /usr/local/lib/python3.6/dist-packages (19.0.3)\n",
            "Requirement already satisfied: absl-py==0.7.0 in /usr/local/lib/python3.6/dist-packages (from -r requirements.txt (line 1)) (0.7.0)\n",
            "Requirement already satisfied: astor==0.7.1 in /usr/local/lib/python3.6/dist-packages (from -r requirements.txt (line 2)) (0.7.1)\n",
            "Requirement already satisfied: cycler==0.10.0 in /usr/local/lib/python3.6/dist-packages (from -r requirements.txt (line 3)) (0.10.0)\n",
            "Requirement already satisfied: gast==0.2.2 in /usr/local/lib/python3.6/dist-packages (from -r requirements.txt (line 4)) (0.2.2)\n",
            "Requirement already satisfied: grpcio==1.18.0 in /usr/local/lib/python3.6/dist-packages (from -r requirements.txt (line 5)) (1.18.0)\n",
            "Requirement already satisfied: h5py==2.9.0 in /usr/local/lib/python3.6/dist-packages (from -r requirements.txt (line 6)) (2.9.0)\n",
            "Requirement already satisfied: Keras==2.2.4 in /usr/local/lib/python3.6/dist-packages (from -r requirements.txt (line 7)) (2.2.4)\n",
            "Requirement already satisfied: Keras-Applications==1.0.7 in /usr/local/lib/python3.6/dist-packages (from -r requirements.txt (line 8)) (1.0.7)\n",
            "Requirement already satisfied: Keras-Preprocessing==1.0.9 in /usr/local/lib/python3.6/dist-packages (from -r requirements.txt (line 9)) (1.0.9)\n",
            "Requirement already satisfied: kiwisolver==1.0.1 in /usr/local/lib/python3.6/dist-packages (from -r requirements.txt (line 10)) (1.0.1)\n",
            "Requirement already satisfied: Markdown==3.0.1 in /usr/local/lib/python3.6/dist-packages (from -r requirements.txt (line 11)) (3.0.1)\n",
            "Requirement already satisfied: matplotlib==3.0.2 in /usr/local/lib/python3.6/dist-packages (from -r requirements.txt (line 12)) (3.0.2)\n",
            "Requirement already satisfied: mne==0.17.0 in /usr/local/lib/python3.6/dist-packages (from -r requirements.txt (line 13)) (0.17.0)\n",
            "Requirement already satisfied: numpy==1.16.1 in /usr/local/lib/python3.6/dist-packages (from -r requirements.txt (line 14)) (1.16.1)\n",
            "Requirement already satisfied: pandas==0.24.1 in /usr/local/lib/python3.6/dist-packages (from -r requirements.txt (line 15)) (0.24.1)\n",
            "Requirement already satisfied: protobuf==3.6.1 in /usr/local/lib/python3.6/dist-packages (from -r requirements.txt (line 16)) (3.6.1)\n",
            "Requirement already satisfied: pyparsing==2.3.1 in /usr/local/lib/python3.6/dist-packages (from -r requirements.txt (line 17)) (2.3.1)\n",
            "Requirement already satisfied: python-dateutil==2.8.0 in /usr/local/lib/python3.6/dist-packages (from -r requirements.txt (line 18)) (2.8.0)\n",
            "Requirement already satisfied: pytz==2018.9 in /usr/local/lib/python3.6/dist-packages (from -r requirements.txt (line 19)) (2018.9)\n",
            "Requirement already satisfied: PyYAML==4.2b1 in /usr/local/lib/python3.6/dist-packages (from -r requirements.txt (line 20)) (4.2b1)\n",
            "Requirement already satisfied: scikit-learn==0.20.2 in /usr/local/lib/python3.6/dist-packages (from -r requirements.txt (line 21)) (0.20.2)\n",
            "Requirement already satisfied: scipy==1.2.0 in /usr/local/lib/python3.6/dist-packages (from -r requirements.txt (line 22)) (1.2.0)\n",
            "Requirement already satisfied: six==1.12.0 in /usr/local/lib/python3.6/dist-packages (from -r requirements.txt (line 23)) (1.12.0)\n",
            "Requirement already satisfied: sklearn==0.0 in /usr/local/lib/python3.6/dist-packages (from -r requirements.txt (line 24)) (0.0)\n",
            "Requirement already satisfied: tensorboard==1.12.2 in /usr/local/lib/python3.6/dist-packages (from -r requirements.txt (line 25)) (1.12.2)\n",
            "Requirement already satisfied: tensorflow==1.13.0rc1 in /usr/local/lib/python3.6/dist-packages (from -r requirements.txt (line 26)) (1.13.0rc1)\n",
            "Requirement already satisfied: termcolor==1.1.0 in /usr/local/lib/python3.6/dist-packages (from -r requirements.txt (line 27)) (1.1.0)\n",
            "Requirement already satisfied: Werkzeug==0.14.1 in /usr/local/lib/python3.6/dist-packages (from -r requirements.txt (line 28)) (0.14.1)\n",
            "Requirement already satisfied: setuptools in /usr/local/lib/python3.6/dist-packages (from kiwisolver==1.0.1->-r requirements.txt (line 10)) (40.8.0)\n",
            "Requirement already satisfied: wheel>=0.26; python_version >= \"3\" in /usr/local/lib/python3.6/dist-packages (from tensorboard==1.12.2->-r requirements.txt (line 25)) (0.33.1)\n",
            "Requirement already satisfied: tensorflow-estimator<1.14.0rc0,>=1.13.0rc0 in /usr/local/lib/python3.6/dist-packages (from tensorflow==1.13.0rc1->-r requirements.txt (line 26)) (1.13.0)\n",
            "Requirement already satisfied: mock>=2.0.0 in /usr/local/lib/python3.6/dist-packages (from tensorflow-estimator<1.14.0rc0,>=1.13.0rc0->tensorflow==1.13.0rc1->-r requirements.txt (line 26)) (2.0.0)\n",
            "Requirement already satisfied: pbr>=0.11 in /usr/local/lib/python3.6/dist-packages (from mock>=2.0.0->tensorflow-estimator<1.14.0rc0,>=1.13.0rc0->tensorflow==1.13.0rc1->-r requirements.txt (line 26)) (5.1.2)\n"
          ],
          "name": "stdout"
        }
      ]
    },
    {
      "metadata": {
        "id": "FhkDPfIq1ewa",
        "colab_type": "text"
      },
      "cell_type": "markdown",
      "source": [
        "#Load Data, Preprocess, Concatenate\n"
      ]
    },
    {
      "metadata": {
        "id": "jhU8hlcg1e6T",
        "colab_type": "code",
        "outputId": "452bad37-12bf-4ebc-ee82-01bbbabd3966",
        "colab": {
          "base_uri": "https://localhost:8080/",
          "height": 1567
        }
      },
      "cell_type": "code",
      "source": [
        "!git clone https://github.com/kylemath/eeg-notebooks/\n",
        "data_dir = 'visual/cueing'\n",
        "\n",
        "subs = [101, 102, 103, 104, 105, 106, 108, 109, 110, 111, 112,\n",
        "        202, 203, 204, 205, 207, 208, 209, 210, 211,\n",
        "        301, 302, 303, 304, 305, 306, 307, 308, 309]\n",
        "nsesh = 2\n",
        "event_id = {'LeftCue':1, 'RightCue':2}\n",
        "\n",
        "raw = LoadMuseData(subs,nsesh,data_dir)\n",
        "\n",
        "#subs = [ 1]\n",
        "#nsesh = 1\n",
        "#data_dir = 'visual/P300'\n",
        "#event_names = ['Standard','Target']\n",
        "\n",
        "#subs = [ 4]\n",
        "#nsesh = 1\n",
        "#data_dir = 'visual/SSVEP'\n",
        "#event_names = ['f30Hz','f20Hz']"
      ],
      "execution_count": 36,
      "outputs": [
        {
          "output_type": "stream",
          "text": [
            "fatal: destination path 'eeg-notebooks' already exists and is not an empty directory.\n",
            "Loading Data\n",
            "Subject number 1/29\n",
            " Session number 1/2\n",
            " Session number 2/2\n",
            "Subject number 2/29\n",
            " Session number 1/2\n",
            " Session number 2/2\n",
            "Subject number 3/29\n",
            " Session number 1/2\n",
            " Session number 2/2\n",
            "Subject number 4/29\n",
            " Session number 1/2\n",
            " Session number 2/2\n",
            "Subject number 5/29\n",
            " Session number 1/2\n",
            " Session number 2/2\n",
            "Subject number 6/29\n",
            " Session number 1/2\n",
            " Session number 2/2\n",
            "Subject number 7/29\n",
            " Session number 1/2\n",
            " Session number 2/2\n",
            "Subject number 8/29\n",
            " Session number 1/2\n",
            " Session number 2/2\n",
            "Subject number 9/29\n",
            " Session number 1/2\n",
            " Session number 2/2\n",
            "Subject number 10/29\n",
            " Session number 1/2\n",
            " Session number 2/2\n",
            "Subject number 11/29\n",
            " Session number 1/2\n",
            " Session number 2/2\n",
            "Subject number 12/29\n",
            " Session number 1/2\n",
            " Session number 2/2\n",
            "Subject number 13/29\n",
            " Session number 1/2\n",
            " Session number 2/2\n",
            "Subject number 14/29\n",
            " Session number 1/2\n",
            " Session number 2/2\n",
            "Subject number 15/29\n",
            " Session number 1/2\n",
            " Session number 2/2\n",
            "Subject number 16/29\n",
            " Session number 1/2\n",
            " Session number 2/2\n",
            "Subject number 17/29\n",
            " Session number 1/2\n",
            " Session number 2/2\n",
            "Subject number 18/29\n",
            " Session number 1/2\n",
            " Session number 2/2\n",
            "Subject number 19/29\n",
            " Session number 1/2\n",
            " Session number 2/2\n",
            "Subject number 20/29\n",
            " Session number 1/2\n",
            " Session number 2/2\n",
            "Subject number 21/29\n",
            " Session number 1/2\n",
            " Session number 2/2\n",
            "Subject number 22/29\n",
            " Session number 1/2\n",
            " Session number 2/2\n",
            "Subject number 23/29\n",
            " Session number 1/2\n",
            " Session number 2/2\n",
            "Subject number 24/29\n",
            " Session number 1/2\n",
            " Session number 2/2\n",
            "Subject number 25/29\n",
            " Session number 1/2\n",
            " Session number 2/2\n",
            "Subject number 26/29\n",
            " Session number 1/2\n",
            " Session number 2/2\n",
            "Subject number 27/29\n",
            " Session number 1/2\n",
            " Session number 2/2\n",
            "Subject number 28/29\n",
            " Session number 1/2\n",
            " Session number 2/2\n",
            "Subject number 29/29\n",
            " Session number 1/2\n",
            " Session number 2/2\n",
            "[<RawArray  |  None, n_channels x n_times : 5 x 61284 (239.4 sec), ~2.4 MB, data loaded>, <RawArray  |  None, n_channels x n_times : 5 x 61284 (239.4 sec), ~2.4 MB, data loaded>, <RawArray  |  None, n_channels x n_times : 5 x 61296 (239.4 sec), ~2.4 MB, data loaded>, <RawArray  |  None, n_channels x n_times : 5 x 61296 (239.4 sec), ~2.4 MB, data loaded>, <RawArray  |  None, n_channels x n_times : 5 x 61296 (239.4 sec), ~2.4 MB, data loaded>, <RawArray  |  None, n_channels x n_times : 5 x 61296 (239.4 sec), ~2.4 MB, data loaded>, <RawArray  |  None, n_channels x n_times : 5 x 61296 (239.4 sec), ~2.4 MB, data loaded>, <RawArray  |  None, n_channels x n_times : 5 x 122568 (478.8 sec), ~4.7 MB, data loaded>, <RawArray  |  None, n_channels x n_times : 5 x 61296 (239.4 sec), ~2.4 MB, data loaded>, <RawArray  |  None, n_channels x n_times : 5 x 61296 (239.4 sec), ~2.4 MB, data loaded>, <RawArray  |  None, n_channels x n_times : 5 x 61284 (239.4 sec), ~2.4 MB, data loaded>, <RawArray  |  None, n_channels x n_times : 5 x 61284 (239.4 sec), ~2.4 MB, data loaded>, <RawArray  |  None, n_channels x n_times : 5 x 61296 (239.4 sec), ~2.4 MB, data loaded>, <RawArray  |  None, n_channels x n_times : 5 x 61284 (239.4 sec), ~2.4 MB, data loaded>, <RawArray  |  None, n_channels x n_times : 5 x 61284 (239.4 sec), ~2.4 MB, data loaded>, <RawArray  |  None, n_channels x n_times : 5 x 61296 (239.4 sec), ~2.4 MB, data loaded>, <RawArray  |  None, n_channels x n_times : 5 x 61296 (239.4 sec), ~2.4 MB, data loaded>, <RawArray  |  None, n_channels x n_times : 5 x 61284 (239.4 sec), ~2.4 MB, data loaded>, <RawArray  |  None, n_channels x n_times : 5 x 61296 (239.4 sec), ~2.4 MB, data loaded>, <RawArray  |  None, n_channels x n_times : 5 x 61296 (239.4 sec), ~2.4 MB, data loaded>, <RawArray  |  None, n_channels x n_times : 5 x 61296 (239.4 sec), ~2.4 MB, data loaded>, <RawArray  |  None, n_channels x n_times : 5 x 61284 (239.4 sec), ~2.4 MB, data loaded>, <RawArray  |  None, n_channels x n_times : 5 x 61296 (239.4 sec), ~2.4 MB, data loaded>, <RawArray  |  None, n_channels x n_times : 5 x 61296 (239.4 sec), ~2.4 MB, data loaded>, <RawArray  |  None, n_channels x n_times : 5 x 61296 (239.4 sec), ~2.4 MB, data loaded>, <RawArray  |  None, n_channels x n_times : 5 x 61296 (239.4 sec), ~2.4 MB, data loaded>, <RawArray  |  None, n_channels x n_times : 5 x 61308 (239.5 sec), ~2.4 MB, data loaded>, <RawArray  |  None, n_channels x n_times : 5 x 61308 (239.5 sec), ~2.4 MB, data loaded>, <RawArray  |  None, n_channels x n_times : 5 x 61296 (239.4 sec), ~2.4 MB, data loaded>, <RawArray  |  None, n_channels x n_times : 5 x 61296 (239.4 sec), ~2.4 MB, data loaded>, <RawArray  |  None, n_channels x n_times : 5 x 61284 (239.4 sec), ~2.4 MB, data loaded>, <RawArray  |  None, n_channels x n_times : 5 x 61284 (239.4 sec), ~2.4 MB, data loaded>, <RawArray  |  None, n_channels x n_times : 5 x 61296 (239.4 sec), ~2.4 MB, data loaded>, <RawArray  |  None, n_channels x n_times : 5 x 61296 (239.4 sec), ~2.4 MB, data loaded>, <RawArray  |  None, n_channels x n_times : 5 x 61296 (239.4 sec), ~2.4 MB, data loaded>, <RawArray  |  None, n_channels x n_times : 5 x 61296 (239.4 sec), ~2.4 MB, data loaded>, <RawArray  |  None, n_channels x n_times : 5 x 61284 (239.4 sec), ~2.4 MB, data loaded>, <RawArray  |  None, n_channels x n_times : 5 x 61296 (239.4 sec), ~2.4 MB, data loaded>, <RawArray  |  None, n_channels x n_times : 5 x 61296 (239.4 sec), ~2.4 MB, data loaded>, <RawArray  |  None, n_channels x n_times : 5 x 61296 (239.4 sec), ~2.4 MB, data loaded>, <RawArray  |  None, n_channels x n_times : 5 x 30564 (119.4 sec), ~1.2 MB, data loaded>, <RawArray  |  None, n_channels x n_times : 5 x 30564 (119.4 sec), ~1.2 MB, data loaded>, <RawArray  |  None, n_channels x n_times : 5 x 61296 (239.4 sec), ~2.4 MB, data loaded>, <RawArray  |  None, n_channels x n_times : 5 x 122592 (478.9 sec), ~4.7 MB, data loaded>, <RawArray  |  None, n_channels x n_times : 5 x 61296 (239.4 sec), ~2.4 MB, data loaded>, <RawArray  |  None, n_channels x n_times : 5 x 61296 (239.4 sec), ~2.4 MB, data loaded>, <RawArray  |  None, n_channels x n_times : 5 x 61284 (239.4 sec), ~2.4 MB, data loaded>, <RawArray  |  None, n_channels x n_times : 5 x 61284 (239.4 sec), ~2.4 MB, data loaded>, <RawArray  |  None, n_channels x n_times : 5 x 61296 (239.4 sec), ~2.4 MB, data loaded>, <RawArray  |  None, n_channels x n_times : 5 x 61296 (239.4 sec), ~2.4 MB, data loaded>, <RawArray  |  None, n_channels x n_times : 5 x 61308 (239.5 sec), ~2.4 MB, data loaded>, <RawArray  |  None, n_channels x n_times : 5 x 61308 (239.5 sec), ~2.4 MB, data loaded>, <RawArray  |  None, n_channels x n_times : 5 x 61308 (239.5 sec), ~2.4 MB, data loaded>, <RawArray  |  None, n_channels x n_times : 5 x 61308 (239.5 sec), ~2.4 MB, data loaded>, <RawArray  |  None, n_channels x n_times : 5 x 61296 (239.4 sec), ~2.4 MB, data loaded>, <RawArray  |  None, n_channels x n_times : 5 x 61308 (239.5 sec), ~2.4 MB, data loaded>, <RawArray  |  None, n_channels x n_times : 5 x 61308 (239.5 sec), ~2.4 MB, data loaded>, <RawArray  |  None, n_channels x n_times : 5 x 61308 (239.5 sec), ~2.4 MB, data loaded>]\n"
          ],
          "name": "stdout"
        }
      ]
    },
    {
      "metadata": {
        "id": "oEd72sIHuiFc",
        "colab_type": "text"
      },
      "cell_type": "markdown",
      "source": [
        "#Preprocess Data"
      ]
    },
    {
      "metadata": {
        "id": "3HiHs8CluhjP",
        "colab_type": "code",
        "colab": {
          "base_uri": "https://localhost:8080/",
          "height": 85
        },
        "outputId": "70c40caf-689c-4f7e-868d-7b94affceeb7"
      },
      "cell_type": "code",
      "source": [
        "epochs = PreProcess(raw,event_id)\n"
      ],
      "execution_count": 37,
      "outputs": [
        {
          "output_type": "stream",
          "text": [
            "Filtering Data Between 1 and 30 Hz.\n",
            "4583 events found\n",
            "Event IDs: [ 1  2 11 12 21 22]\n",
            "Remaining Trials: 1408\n"
          ],
          "name": "stdout"
        }
      ]
    },
    {
      "metadata": {
        "id": "pwqD_voiDypa",
        "colab_type": "text"
      },
      "cell_type": "markdown",
      "source": [
        "#Run FeatureEngineer\n",
        "\n",
        "epochs, model_type='NN',\n",
        "frequency_domain=False,\n",
        "normalization=True, electrode_median=False,\n",
        "wavelet_decim=1,flims=(3,30),\n",
        "f_bins=20,wave_cycles=3,\n",
        "spect_baseline=[-1,-.5],\n",
        "electrodes_out=[11,12,13,14,15],\n",
        "test_split = 0.2, val_split = 0.2,\n",
        "random_seed=1017, watermark = False"
      ]
    },
    {
      "metadata": {
        "id": "i_jYlTW1A6sb",
        "colab_type": "code",
        "outputId": "4a93d84c-7ea9-45a9-d312-f801fb29fcb1",
        "colab": {
          "base_uri": "https://localhost:8080/",
          "height": 221
        }
      },
      "cell_type": "code",
      "source": [
        "feats = FeatureEngineer(epochs,model_type='NN')"
      ],
      "execution_count": 38,
      "outputs": [
        {
          "output_type": "stream",
          "text": [
            "Constructing Time Domain Features\n",
            "Normalizing X\n",
            "Combined X Shape: (1408, 256, 4)\n",
            "Combined Y Shape: (1408,)\n",
            "Y Example (should be 1s & 0s): [1 1 0 0 0 0 0 1 0 0]\n",
            "X Range: -12.106191:9.781672\n",
            "Input Shape: (256, 4)\n",
            "x_train shape: (844, 256, 4)\n",
            "844 train samples\n",
            "282 test samples\n",
            "282 validation samples\n",
            "Class Weights: [0.97011494 1.03178484]\n"
          ],
          "name": "stdout"
        }
      ]
    },
    {
      "metadata": {
        "id": "9ChMvr-jKp8P",
        "colab_type": "text"
      },
      "cell_type": "markdown",
      "source": [
        "# Run CreateModel"
      ]
    },
    {
      "metadata": {
        "id": "HFf3rBbJKqHR",
        "colab_type": "code",
        "outputId": "ad8d2d6d-e3e2-478f-b309-8c18c5640338",
        "colab": {
          "base_uri": "https://localhost:8080/",
          "height": 918
        }
      },
      "cell_type": "code",
      "source": [
        "model, _ = CreateModel(feats)"
      ],
      "execution_count": 39,
      "outputs": [
        {
          "output_type": "stream",
          "text": [
            "Creating NN Model\n",
            "Input shape: (256, 4)\n",
            "_________________________________________________________________\n",
            "Layer (type)                 Output Shape              Param #   \n",
            "=================================================================\n",
            "flatten_2 (Flatten)          (None, 1024)              0         \n",
            "_________________________________________________________________\n",
            "dense_7 (Dense)              (None, 16)                16400     \n",
            "_________________________________________________________________\n",
            "batch_normalization_6 (Batch (None, 16)                64        \n",
            "_________________________________________________________________\n",
            "activation_6 (Activation)    (None, 16)                0         \n",
            "_________________________________________________________________\n",
            "dropout_6 (Dropout)          (None, 16)                0         \n",
            "_________________________________________________________________\n",
            "dense_8 (Dense)              (None, 8)                 136       \n",
            "_________________________________________________________________\n",
            "batch_normalization_7 (Batch (None, 8)                 32        \n",
            "_________________________________________________________________\n",
            "activation_7 (Activation)    (None, 8)                 0         \n",
            "_________________________________________________________________\n",
            "dropout_7 (Dropout)          (None, 8)                 0         \n",
            "_________________________________________________________________\n",
            "dense_9 (Dense)              (None, 4)                 36        \n",
            "_________________________________________________________________\n",
            "batch_normalization_8 (Batch (None, 4)                 16        \n",
            "_________________________________________________________________\n",
            "activation_8 (Activation)    (None, 4)                 0         \n",
            "_________________________________________________________________\n",
            "dropout_8 (Dropout)          (None, 4)                 0         \n",
            "_________________________________________________________________\n",
            "dense_10 (Dense)             (None, 8)                 40        \n",
            "_________________________________________________________________\n",
            "batch_normalization_9 (Batch (None, 8)                 32        \n",
            "_________________________________________________________________\n",
            "activation_9 (Activation)    (None, 8)                 0         \n",
            "_________________________________________________________________\n",
            "dropout_9 (Dropout)          (None, 8)                 0         \n",
            "_________________________________________________________________\n",
            "dense_11 (Dense)             (None, 16)                144       \n",
            "_________________________________________________________________\n",
            "batch_normalization_10 (Batc (None, 16)                64        \n",
            "_________________________________________________________________\n",
            "activation_10 (Activation)   (None, 16)                0         \n",
            "_________________________________________________________________\n",
            "dropout_10 (Dropout)         (None, 16)                0         \n",
            "_________________________________________________________________\n",
            "dense_12 (Dense)             (None, 2)                 34        \n",
            "=================================================================\n",
            "Total params: 16,998\n",
            "Trainable params: 16,894\n",
            "Non-trainable params: 104\n",
            "_________________________________________________________________\n"
          ],
          "name": "stdout"
        }
      ]
    },
    {
      "metadata": {
        "id": "-EKBjSapfE4O",
        "colab_type": "text"
      },
      "cell_type": "markdown",
      "source": [
        "# TrainTestVal"
      ]
    },
    {
      "metadata": {
        "id": "u6ize7eJfB3J",
        "colab_type": "code",
        "outputId": "8683462a-b264-4a68-ecd2-f9ee49056763",
        "colab": {
          "base_uri": "https://localhost:8080/",
          "height": 1404
        }
      },
      "cell_type": "code",
      "source": [
        "TrainTestVal(model, feats)"
      ],
      "execution_count": 40,
      "outputs": [
        {
          "output_type": "stream",
          "text": [
            "Training Model:\n",
            "Train on 844 samples, validate on 282 samples\n",
            "Epoch 1/20\n",
            "844/844 [==============================] - 4s 5ms/step - loss: 0.8314 - acc: 0.4964 - val_loss: 0.7236 - val_acc: 0.5071\n",
            "Epoch 2/20\n",
            "844/844 [==============================] - 2s 2ms/step - loss: 0.7456 - acc: 0.4905 - val_loss: 0.7155 - val_acc: 0.4894\n",
            "Epoch 3/20\n",
            "844/844 [==============================] - 2s 2ms/step - loss: 0.7256 - acc: 0.5000 - val_loss: 0.7123 - val_acc: 0.4858\n",
            "Epoch 4/20\n",
            "844/844 [==============================] - 1s 1ms/step - loss: 0.7231 - acc: 0.4870 - val_loss: 0.7276 - val_acc: 0.4858\n",
            "Epoch 5/20\n",
            "844/844 [==============================] - 1s 1ms/step - loss: 0.7144 - acc: 0.4846 - val_loss: 0.7161 - val_acc: 0.4929\n",
            "Epoch 6/20\n",
            "844/844 [==============================] - 1s 1ms/step - loss: 0.7056 - acc: 0.5178 - val_loss: 0.6990 - val_acc: 0.4965\n",
            "Epoch 7/20\n",
            "844/844 [==============================] - 2s 2ms/step - loss: 0.6993 - acc: 0.5379 - val_loss: 0.7019 - val_acc: 0.4858\n",
            "Epoch 8/20\n",
            "844/844 [==============================] - 2s 2ms/step - loss: 0.7076 - acc: 0.4858 - val_loss: 0.7009 - val_acc: 0.4929\n",
            "Epoch 9/20\n",
            "844/844 [==============================] - 2s 2ms/step - loss: 0.6989 - acc: 0.5000 - val_loss: 0.7040 - val_acc: 0.4858\n",
            "Epoch 10/20\n",
            "844/844 [==============================] - 1s 2ms/step - loss: 0.6985 - acc: 0.5130 - val_loss: 0.7005 - val_acc: 0.4752\n",
            "Epoch 11/20\n",
            "844/844 [==============================] - 1s 1ms/step - loss: 0.6954 - acc: 0.5024 - val_loss: 0.7049 - val_acc: 0.4681\n",
            "Epoch 12/20\n",
            "844/844 [==============================] - 1s 1ms/step - loss: 0.6966 - acc: 0.5178 - val_loss: 0.7007 - val_acc: 0.4858\n",
            "Epoch 13/20\n",
            "844/844 [==============================] - 1s 1ms/step - loss: 0.6920 - acc: 0.5332 - val_loss: 0.6992 - val_acc: 0.4823\n",
            "Epoch 14/20\n",
            "844/844 [==============================] - 1s 1ms/step - loss: 0.6977 - acc: 0.5012 - val_loss: 0.6980 - val_acc: 0.4929\n",
            "Epoch 15/20\n",
            "844/844 [==============================] - 1s 1ms/step - loss: 0.6964 - acc: 0.5237 - val_loss: 0.7006 - val_acc: 0.4858\n",
            "Epoch 16/20\n",
            "844/844 [==============================] - 1s 1ms/step - loss: 0.6917 - acc: 0.5201 - val_loss: 0.7031 - val_acc: 0.4858\n",
            "Epoch 17/20\n",
            "844/844 [==============================] - 1s 1ms/step - loss: 0.6952 - acc: 0.4988 - val_loss: 0.7003 - val_acc: 0.4965\n",
            "Epoch 18/20\n",
            "844/844 [==============================] - 1s 1ms/step - loss: 0.6959 - acc: 0.5237 - val_loss: 0.7007 - val_acc: 0.4929\n",
            "Epoch 19/20\n",
            "844/844 [==============================] - 1s 1ms/step - loss: 0.6950 - acc: 0.5095 - val_loss: 0.7003 - val_acc: 0.4929\n",
            "Epoch 20/20\n",
            "844/844 [==============================] - 1s 1ms/step - loss: 0.6962 - acc: 0.4988 - val_loss: 0.7010 - val_acc: 0.4894\n",
            "dict_keys(['val_loss', 'val_acc', 'loss', 'acc'])\n"
          ],
          "name": "stdout"
        },
        {
          "output_type": "display_data",
          "data": {
            "image/png": "[encoded data removed]",
            "text/plain": [
              "<Figure size 432x288 with 1 Axes>"
            ]
          },
          "metadata": {
            "tags": []
          }
        },
        {
          "output_type": "display_data",
          "data": {
            "image/png": "[encoded data removed]",
            "text/plain": [
              "<Figure size 432x288 with 1 Axes>"
            ]
          },
          "metadata": {
            "tags": []
          }
        },
        {
          "output_type": "stream",
          "text": [
            "282/282 [==============================] - 0s 471us/step\n",
            "['loss', 'acc']\n",
            "Test loss: 0.6953090006578053\n",
            "Test accuracy: 0.5106382978723404\n"
          ],
          "name": "stdout"
        },
        {
          "output_type": "execute_result",
          "data": {
            "text/plain": [
              "(<keras.engine.sequential.Sequential at 0x7fdb27d07668>,\n",
              " {'acc': 0.5106382978723404, 'score': 0.6953090006578053})"
            ]
          },
          "metadata": {
            "tags": []
          },
          "execution_count": 40
        }
      ]
    }
  ]
}